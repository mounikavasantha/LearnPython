{
 "cells": [
  {
   "cell_type": "code",
   "execution_count": null,
   "metadata": {},
   "outputs": [],
   "source": [
    "def isPhoneNumber(text):\n",
    "    # if len(text)!= 10:\n",
    "    #     return False\n",
    "    # for i in range(0, 3):\n",
    "    #     if not text[i].isdecimal():\n",
    "    #          return False\n",
    "    if text.isalpha():\n",
    "        return False\n",
    "isPhoneNumber(\"1234-456-2345-345\")\n"
   ]
  },
  {
   "cell_type": "code",
   "execution_count": null,
   "metadata": {},
   "outputs": [],
   "source": [
    "msg = \"415-555-1011\"\n",
    "msg[1:13]\n"
   ]
  },
  {
   "cell_type": "code",
   "execution_count": null,
   "metadata": {},
   "outputs": [],
   "source": []
  },
  {
   "cell_type": "code",
   "execution_count": null,
   "metadata": {},
   "outputs": [],
   "source": [
    "import re\n",
    "phoneNumRegex = re.compile(r'\\d\\d\\d-\\d\\d\\d-\\d\\d\\d\\d')\n",
    "print(phoneNumRegex)\n",
    "mo = phoneNumRegex.search('My number is 415-555-4242.')\n",
    "print(type(mo))\n",
    "print('Phone number found: ' + mo.group())"
   ]
  },
  {
   "cell_type": "code",
   "execution_count": null,
   "metadata": {},
   "outputs": [],
   "source": [
    "import re\n",
    "txt = \"The rain is started in spain\"\n",
    "x = re.search(\"^The.*spain$\",txt)\n",
    "print(x)"
   ]
  },
  {
   "cell_type": "code",
   "execution_count": null,
   "metadata": {},
   "outputs": [],
   "source": [
    "import re\n",
    "\n",
    "#Check if the string starts with \"The\" and ends with \"Spain\":\n",
    "\n",
    "txt = \"The rain in Spain\"\n",
    "pattern = r'\\AThe'\n",
    "x = re.findall(pattern, txt)\n",
    "print(x)\n",
    "\n",
    "if x:\n",
    "  print(\"YES! We have a match!\")\n",
    "else:\n",
    "  print(\"No match\")\n"
   ]
  },
  {
   "cell_type": "code",
   "execution_count": null,
   "metadata": {},
   "outputs": [],
   "source": [
    "import re\n",
    "\n",
    "txt = \"The rain in Spain\"\n",
    "pattern = r'in'\n",
    "x= re.findall(pattern,txt)\n",
    "print(x)"
   ]
  },
  {
   "cell_type": "code",
   "execution_count": null,
   "metadata": {},
   "outputs": [],
   "source": [
    "import re\n",
    "num = \"123-456-344\"\n",
    "patterns =r'/34'\n",
    "x = re.findall(pattern,txt)\n",
    "print(x)"
   ]
  },
  {
   "cell_type": "code",
   "execution_count": null,
   "metadata": {},
   "outputs": [],
   "source": [
    "import re\n",
    "\n",
    "txt = \"The rain in Spain\"\n",
    "# result = re.compile(\"^The\")\n",
    "key_w=re.search(r'Spain',txt)\n",
    "# print(result)\n",
    "print(key_w)\n"
   ]
  },
  {
   "cell_type": "code",
   "execution_count": null,
   "metadata": {},
   "outputs": [],
   "source": [
    "import re\n",
    "text = \"Contact us at support@example.com or sales@example.com.\"\n",
    "pattern = re.compile(r'\\b[A-Za-z0-9._%+-]+@[A-Za-z0-9.-]+\\.[A-Z|a-z]{2,}\\b')\n",
    "emails = pattern.findall(text)\n",
    "print(emails)\n",
    "task = pattern.sub('[email protected]',text)\n",
    "print(task)"
   ]
  },
  {
   "cell_type": "code",
   "execution_count": null,
   "metadata": {},
   "outputs": [],
   "source": [
    "import re\n",
    "\n",
    "s = 'My 2 favourite numbers are 7 and 10'\n",
    "x = re.findall('[0-9]+',s)\n",
    "print(x)\n",
    "n=  \"Hello from shubhamg199630@gmail.com to priya@yahoo.com about the meeting @2PM\"\n",
    "pattern = r'\\S+@\\S+'\n",
    "k = re.findall(pattern,n)\n",
    "print(k)\n",
    "task_repl=re.sub(pattern,'[replacing the emails]',n)\n",
    "print(task_repl)\n",
    "\n"
   ]
  },
  {
   "cell_type": "code",
   "execution_count": null,
   "metadata": {},
   "outputs": [],
   "source": [
    "import re\n",
    "text= \"My name is mounika\"\n",
    "pattern=r'My'\n",
    "result= re.compile(pattern)\n",
    "matches = result.findall(text)\n",
    "print(matches)\n"
   ]
  },
  {
   "cell_type": "code",
   "execution_count": null,
   "metadata": {},
   "outputs": [],
   "source": [
    "import re\n",
    "text = 'The rain in Spain falls mainly in the plain.'\n",
    "match = re.match(r'The',text)\n",
    "print(match)\n",
    "search = re.search(r'ain',text)\n",
    "print(search.group())\n",
    "find = re.findall(r\"ain\",text)\n",
    "print(find)\n",
    "find_it= re.finditer(r'in',text)\n",
    "result = [match.group() for match in find_it]\n",
    "print(result)\n",
    "sub = re.sub(r\"\\s+\",\" \",text)\n",
    "print(sub)\n",
    "spliting = re.split(r\"-\",text)\n",
    "print(spliting)"
   ]
  },
  {
   "cell_type": "code",
   "execution_count": null,
   "metadata": {},
   "outputs": [],
   "source": [
    "num = '123-456-2098'\n",
    "res=re.findall(r'[0-5]',num\n",
    "             )\n",
    "print(res)"
   ]
  },
  {
   "cell_type": "code",
   "execution_count": null,
   "metadata": {},
   "outputs": [],
   "source": [
    "phoneRegex = re.compile(r'(\\d\\d\\d-)?(\\d\\d\\d)-(\\d\\d\\d\\d)')\n",
    "mo1 = phoneRegex.search('My number is 415-555-4242')\n",
    "mo1.groups()"
   ]
  },
  {
   "cell_type": "code",
   "execution_count": null,
   "metadata": {},
   "outputs": [],
   "source": [
    "import re\n",
    "text = 'hahahaha'\n",
    "res= re.findall(r'(ha){2}',text)\n",
    "print(res)\n",
    "match_iter = re.finditer(r'(ha){2}',text)\n",
    "for match in match_iter:\n",
    "    print(f\"{match.group()} at position {match.start()}-{match.end()}\")"
   ]
  },
  {
   "cell_type": "code",
   "execution_count": null,
   "metadata": {},
   "outputs": [],
   "source": [
    "import re\n",
    "text = \"red colour and blue col\"\n",
    "pattern = r\"col?\"\n",
    "matches= re.findall(pattern,text)\n",
    "print(matches)\n"
   ]
  },
  {
   "cell_type": "code",
   "execution_count": null,
   "metadata": {},
   "outputs": [],
   "source": [
    "import re\n",
    "text = \"go gopher goo\"\n",
    "pattern = r'go*'\n",
    "matches =re.findall(pattern,text)\n",
    "print(matches)"
   ]
  },
  {
   "cell_type": "code",
   "execution_count": null,
   "metadata": {},
   "outputs": [],
   "source": [
    "import re\n",
    "text = \"go gopher goo\"\n",
    "pattern = r'go+'\n",
    "matches =re.findall(pattern,text)\n",
    "print(matches)"
   ]
  },
  {
   "cell_type": "code",
   "execution_count": null,
   "metadata": {},
   "outputs": [],
   "source": [
    "import re\n",
    "text = 'hahahahahaha'\n",
    "pattern = r'(ha){1,2}?'\n",
    "matchs = re.findall(pattern,text)\n",
    "print(matchs)"
   ]
  },
  {
   "cell_type": "code",
   "execution_count": null,
   "metadata": {},
   "outputs": [],
   "source": [
    "import re\n",
    "\n",
    "text = \"spam and eggs\"\n",
    "pattern = r'eggs$'\n",
    "matches = re.findall(pattern, text)\n",
    "print(matches)"
   ]
  },
  {
   "cell_type": "code",
   "execution_count": null,
   "metadata": {},
   "outputs": [],
   "source": [
    "import re\n",
    "\n",
    "text = \"a1b2c3\"\n",
    "pattern = r'a.b.c'\n",
    "matches = re.findall(pattern, text)\n",
    "print(matches)"
   ]
  },
  {
   "cell_type": "code",
   "execution_count": null,
   "metadata": {},
   "outputs": [],
   "source": [
    "import re\n",
    "\n",
    "text = \"123 abc\"\n",
    "pattern = r'\\d'\n",
    "matches = re.findall(pattern, text)\n",
    "print(matches)"
   ]
  },
  {
   "cell_type": "code",
   "execution_count": null,
   "metadata": {},
   "outputs": [],
   "source": [
    "import re\n",
    "\n",
    "text = \"123 abc\"\n",
    "pattern = r'\\D'\n",
    "matches = re.findall(pattern, text)\n",
    "print(matches)"
   ]
  },
  {
   "cell_type": "code",
   "execution_count": null,
   "metadata": {},
   "outputs": [],
   "source": [
    "import re\n",
    "\n",
    "text = \"abc_123\"\n",
    "pattern = r'\\w'\n",
    "matches = re.findall(pattern, text)\n",
    "print(matches)"
   ]
  },
  {
   "cell_type": "code",
   "execution_count": null,
   "metadata": {},
   "outputs": [],
   "source": [
    "import re\n",
    "\n",
    "text = \"abc_123!\"\n",
    "pattern = r'\\W'\n",
    "matches = re.findall(pattern, text)\n",
    "print(matches)"
   ]
  },
  {
   "cell_type": "code",
   "execution_count": null,
   "metadata": {},
   "outputs": [],
   "source": [
    "import re\n",
    "\n",
    "text = \"a b\\tc\\nd\"\n",
    "pattern = r'\\s'\n",
    "matches = re.findall(pattern, text)\n",
    "print(matches)"
   ]
  },
  {
   "cell_type": "code",
   "execution_count": null,
   "metadata": {},
   "outputs": [],
   "source": [
    "import pyinputplus as pyip\n",
    "\n",
    "# name = pyip.inputNum()\n",
    "# print(name)\n",
    "res= pyip.inputInt()\n",
    "print(res)"
   ]
  },
  {
   "cell_type": "code",
   "execution_count": null,
   "metadata": {},
   "outputs": [],
   "source": [
    "import pyinputplus as pyit\n",
    "res = pyit.inputNum(\"enter a number:\", min=4)\n",
    "print(res)\n",
    "res1 = pyit.inputNum(\"enter a number\",greaterThan=6)\n",
    "print(res1)"
   ]
  },
  {
   "cell_type": "code",
   "execution_count": null,
   "metadata": {},
   "outputs": [],
   "source": [
    "import pyinputplus as pyit\n",
    "res = pyit.inputNum('>', min=4,lessThan=7)\n",
    "print(res)\n"
   ]
  },
  {
   "cell_type": "code",
   "execution_count": null,
   "metadata": {},
   "outputs": [],
   "source": [
    "response = pyip.inputNum(blank=True)\n",
    "print(response)"
   ]
  },
  {
   "cell_type": "code",
   "execution_count": null,
   "metadata": {},
   "outputs": [],
   "source": [
    "import pyinputplus as pyip\n",
    "response = pyip.inputNum(limit=2)\n",
    "print(response)\n"
   ]
  },
  {
   "cell_type": "code",
   "execution_count": null,
   "metadata": {},
   "outputs": [],
   "source": [
    "import pyinputplus as pyip\n",
    "response = pyip.inputNum(allowRegexes=[r'(I|V|X|L|C|D|M)'])\n",
    "print(response)"
   ]
  },
  {
   "cell_type": "code",
   "execution_count": null,
   "metadata": {},
   "outputs": [],
   "source": [
    "import pyinputplus as pyip\n",
    "response = pyip.inputNum(blockRegexes=[r'[02468]$'])\n",
    "print(response\n",
    "      )"
   ]
  },
  {
   "cell_type": "code",
   "execution_count": null,
   "metadata": {},
   "outputs": [],
   "source": [
    "\n",
    "a = 1\n",
    "b = int(input())\n",
    "\n",
    "if a + b > 0 and a - b < 0:\n",
    "    print(\"starting\")\n",
    "elif a*b > 10 or a/b < 1:\n",
    "    print(\"stopping\")\n",
    "print(set(str(a)) | set(str(b)))"
   ]
  },
  {
   "cell_type": "code",
   "execution_count": null,
   "metadata": {},
   "outputs": [],
   "source": []
  }
 ],
 "metadata": {
  "kernelspec": {
   "display_name": "Python 3",
   "language": "python",
   "name": "python3"
  },
  "language_info": {
   "codemirror_mode": {
    "name": "ipython",
    "version": 3
   },
   "file_extension": ".py",
   "mimetype": "text/x-python",
   "name": "python",
   "nbconvert_exporter": "python",
   "pygments_lexer": "ipython3",
   "version": "3.10.12"
  }
 },
 "nbformat": 4,
 "nbformat_minor": 2
}
