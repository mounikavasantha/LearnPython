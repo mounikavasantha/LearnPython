{
 "cells": [
  {
   "cell_type": "code",
   "execution_count": 3,
   "metadata": {},
   "outputs": [
    {
     "name": "stdout",
     "output_type": "stream",
     "text": [
      "Hello, Mounika\n"
     ]
    }
   ],
   "source": [
    "def name(text):\n",
    "    print(\"Hello, \" + text)\n",
    "\n",
    "name(\"Mounika\")"
   ]
  },
  {
   "cell_type": "code",
   "execution_count": 5,
   "metadata": {},
   "outputs": [
    {
     "name": "stdout",
     "output_type": "stream",
     "text": [
      "3\n",
      "3\n"
     ]
    }
   ],
   "source": [
    "import random\n",
    "def get_answer(num):\n",
    "    if num==1:\n",
    "        return \"yeah,you are 1 \"\n",
    "    elif num==2:\n",
    "        return \"awesome,2\"\n",
    "    elif num ==3:\n",
    "        return \"3\"\n",
    "    elif num==4:\n",
    "        return \"4\"\n",
    "r =random.randint(1,4)\n",
    "print(r)\n",
    "k = get_answer(r)\n",
    "print(k)"
   ]
  },
  {
   "cell_type": "code",
   "execution_count": 8,
   "metadata": {},
   "outputs": [
    {
     "name": "stdout",
     "output_type": "stream",
     "text": [
      "Hello!\n",
      "None\n"
     ]
    },
    {
     "data": {
      "text/plain": [
       "True"
      ]
     },
     "execution_count": 8,
     "metadata": {},
     "output_type": "execute_result"
    }
   ],
   "source": [
    "spam = print('Hello!')\n",
    "print(spam)\n",
    "None == spam"
   ]
  },
  {
   "cell_type": "code",
   "execution_count": 2,
   "metadata": {},
   "outputs": [],
   "source": [
    "def spam():\n",
    "    eggs = 222\n",
    "spam()\n",
    "# print(eggs)"
   ]
  },
  {
   "cell_type": "code",
   "execution_count": 11,
   "metadata": {},
   "outputs": [
    {
     "name": "stdout",
     "output_type": "stream",
     "text": [
      "222\n"
     ]
    }
   ],
   "source": [
    "def spam():\n",
    "    eggs = 222\n",
    "    bacon()\n",
    "    print(eggs)\n",
    "\n",
    "def bacon():\n",
    "    ham = 101\n",
    "    eggs = 0\n",
    "spam()"
   ]
  },
  {
   "cell_type": "code",
   "execution_count": 12,
   "metadata": {},
   "outputs": [
    {
     "name": "stdout",
     "output_type": "stream",
     "text": [
      "99\n"
     ]
    }
   ],
   "source": [
    "def spam():\n",
    "    eggs = 99\n",
    "    bacon()\n",
    "    print(eggs)\n",
    "\n",
    "def bacon():\n",
    "    ham = 101\n",
    "    eggs = 0\n",
    "\n",
    "spam()"
   ]
  },
  {
   "cell_type": "code",
   "execution_count": 1,
   "metadata": {},
   "outputs": [
    {
     "name": "stdout",
     "output_type": "stream",
     "text": [
      "TExT\n"
     ]
    }
   ],
   "source": [
    "def swap_case(s):\n",
    "\n",
    "    return s.swapcase()\n",
    "\n",
    "s = input()\n",
    "result = swap_case(s)\n",
    "print(result)"
   ]
  },
  {
   "cell_type": "code",
   "execution_count": 2,
   "metadata": {},
   "outputs": [],
   "source": [
    "def my_decorator(func):\n",
    "    def wrapper():\n",
    "        print(\"something is heppening before the function is called. \")\n",
    "        func()\n",
    "        print(\"something is heppening after the function is called. \")\n",
    "    return wrapper\n",
    "@my_decorator\n",
    "def say_hello():\n",
    "    print(\"hello!\")\n",
    "say_hello()"
   ]
  },
  {
   "cell_type": "code",
   "execution_count": 5,
   "metadata": {},
   "outputs": [
    {
     "name": "stdout",
     "output_type": "stream",
     "text": [
      "H\n",
      "E\n",
      "L\n",
      "L\n",
      "O\n"
     ]
    }
   ],
   "source": [
    "str = \"HELLO\"\n",
    "n=1\n",
    "for i in range(0,len(str),n):\n",
    "    print(str[i:i+n])"
   ]
  },
  {
   "cell_type": "code",
   "execution_count": 1,
   "metadata": {},
   "outputs": [
    {
     "name": "stdout",
     "output_type": "stream",
     "text": [
      "My function\n",
      "None\n"
     ]
    }
   ],
   "source": [
    "def my_function():\n",
    "    print(\"My function\")\n",
    "\n",
    "description = my_function\n",
    "print(description())"
   ]
  },
  {
   "cell_type": "code",
   "execution_count": 6,
   "metadata": {},
   "outputs": [
    {
     "name": "stdout",
     "output_type": "stream",
     "text": [
      "Function: daily_backup\n",
      "Run on: 2024-12-20 10:12:14.562743\n",
      "------------------------------\n",
      "Daily backup job has finished.\n"
     ]
    }
   ],
   "source": [
    "from datetime import datetime\n",
    "\n",
    "\n",
    "def log_datetime(func):\n",
    "    '''Log the date and time of a function'''\n",
    "\n",
    "    def wrapper():\n",
    "        print(f'Function: {func.__name__}\\nRun on: {datetime.today()}')\n",
    "        print(f'{\"-\"*30}')\n",
    "        func()\n",
    "    return wrapper\n",
    "\n",
    "\n",
    "@log_datetime\n",
    "def daily_backup():\n",
    "\n",
    "    print('Daily backup job has finished.')\n",
    "\n",
    "\n",
    "daily_backup()"
   ]
  },
  {
   "cell_type": "code",
   "execution_count": 188,
   "metadata": {},
   "outputs": [
    {
     "name": "stdout",
     "output_type": "stream",
     "text": [
      "to do before the calling the fun,(2, 4) and {'c': 9}\n",
      "this is my function to add two numbers\n",
      "to do after the calling the fun,(2, 4) and {'c': 9}\n",
      "my_function\n",
      "creating a function\n"
     ]
    }
   ],
   "source": [
    "from functools import wraps\n",
    "\n",
    "def my_decorator(func):\n",
    "    @wraps(func)\n",
    "    def new_sample(*args,**kwargs):\n",
    "        print(f\"to do before the calling the fun,{args} and {kwargs}\")\n",
    "        result = func(*args,**kwargs)\n",
    "        print(f\"to do after the calling the fun,{args} and {kwargs}\")\n",
    "        return result\n",
    "    return new_sample\n",
    "\n",
    "\n",
    "@my_decorator\n",
    "def my_function(a,b,c):\n",
    "    \"\"\"creating a function\"\"\"\n",
    "\n",
    "    print(\"this is my function to add two numbers\")\n",
    "    sum = a+b+c\n",
    "    return sum\n",
    "sum = my_function(2,4,c = 9)\n",
    "# print(sum)\n",
    "print(my_function.__name__)\n",
    "print(my_function.__doc__)"
   ]
  },
  {
   "cell_type": "code",
   "execution_count": 37,
   "metadata": {},
   "outputs": [
    {
     "name": "stdout",
     "output_type": "stream",
     "text": [
      "before\n",
      "hello\n",
      "after\n",
      "prints hello\n"
     ]
    }
   ],
   "source": [
    "from functools import wraps\n",
    "def my_decorator(func):\n",
    "    @wraps(func)\n",
    "    def wrapper():\n",
    "        print(\"before\")\n",
    "        func()\n",
    "        print(\"after\")\n",
    "    return wrapper\n",
    "\n",
    "\n",
    "\n",
    "@my_decorator\n",
    "def say_hello():\n",
    "    \"\"\"prints hello\"\"\"\n",
    "    print(\"hello\")\n",
    "say_hello()\n",
    "print(say_hello.__doc__)"
   ]
  },
  {
   "cell_type": "code",
   "execution_count": 42,
   "metadata": {},
   "outputs": [
    {
     "name": "stdout",
     "output_type": "stream",
     "text": [
      "before the function is called. \n",
      "after the function is called. \n"
     ]
    },
    {
     "data": {
      "text/plain": [
       "3"
      ]
     },
     "execution_count": 42,
     "metadata": {},
     "output_type": "execute_result"
    }
   ],
   "source": [
    "def my_decorator(func):\n",
    "    def wrapper(*args,**kwargs):\n",
    "        print(\"before the function is called. \")\n",
    "        result = func(*args,**kwargs)\n",
    "        print(\"after the function is called. \")\n",
    "        return result\n",
    "    return wrapper\n",
    "@my_decorator\n",
    "def sum(a,b):\n",
    "    return a+b\n",
    "sum(1,2)"
   ]
  },
  {
   "cell_type": "code",
   "execution_count": 44,
   "metadata": {},
   "outputs": [
    {
     "name": "stdout",
     "output_type": "stream",
     "text": [
      "4\n"
     ]
    }
   ],
   "source": [
    "a = lambda x:x+2\n",
    "print(a(2))\n"
   ]
  },
  {
   "cell_type": "code",
   "execution_count": 46,
   "metadata": {},
   "outputs": [
    {
     "name": "stdout",
     "output_type": "stream",
     "text": [
      "3\n"
     ]
    }
   ],
   "source": [
    "add = lambda x,y:x+y\n",
    "print(add(1,2))"
   ]
  },
  {
   "cell_type": "code",
   "execution_count": 48,
   "metadata": {},
   "outputs": [
    {
     "name": "stdout",
     "output_type": "stream",
     "text": [
      "[1, 4, 9, 16, 25]\n"
     ]
    }
   ],
   "source": [
    "l=[1,2,3,4,5]\n",
    "squared = list(map(lambda x:x**2,l))\n",
    "print(squared)"
   ]
  },
  {
   "cell_type": "code",
   "execution_count": 50,
   "metadata": {},
   "outputs": [
    {
     "name": "stdout",
     "output_type": "stream",
     "text": [
      "10\n",
      "2\n",
      "3\n",
      "4\n",
      "5\n"
     ]
    }
   ],
   "source": [
    "l=[10,2,3,4,5]\n",
    "for i in l:\n",
    "    print(i)"
   ]
  },
  {
   "cell_type": "code",
   "execution_count": 51,
   "metadata": {},
   "outputs": [
    {
     "name": "stdout",
     "output_type": "stream",
     "text": [
      "[1, 2, 3, 4, 5]\n"
     ]
    }
   ],
   "source": [
    "l = [1,2,3,4,5]\n",
    "a = [i for i in l]\n",
    "print(a)"
   ]
  },
  {
   "cell_type": "code",
   "execution_count": 52,
   "metadata": {},
   "outputs": [
    {
     "name": "stdout",
     "output_type": "stream",
     "text": [
      "[1, 4, 9, 16, 25]\n"
     ]
    }
   ],
   "source": [
    "l = [1,2,3,4,5]\n",
    "a = [i**2 for i in l]\n",
    "print(a)"
   ]
  },
  {
   "cell_type": "code",
   "execution_count": 56,
   "metadata": {},
   "outputs": [
    {
     "name": "stdout",
     "output_type": "stream",
     "text": [
      "[2, 6, 8]\n"
     ]
    }
   ],
   "source": [
    "l =[1,2,5,6,7,8]\n",
    "a = [l[i] for i in range(len(l)) if l[i]%2 == 0]\n",
    "print(a)"
   ]
  },
  {
   "cell_type": "code",
   "execution_count": 57,
   "metadata": {},
   "outputs": [
    {
     "name": "stdout",
     "output_type": "stream",
     "text": [
      "[0, 2, 4, 6, 8]\n"
     ]
    }
   ],
   "source": [
    "evn =[x for x in range(10) if x%2 == 0]\n",
    "print(evn)"
   ]
  },
  {
   "cell_type": "code",
   "execution_count": 58,
   "metadata": {},
   "outputs": [
    {
     "name": "stdout",
     "output_type": "stream",
     "text": [
      "hello\n",
      "world\n",
      "python\n"
     ]
    }
   ],
   "source": [
    "words = ['hello', 'world', 'python']\n",
    "for i in words:\n",
    "    print(i)"
   ]
  },
  {
   "cell_type": "code",
   "execution_count": 59,
   "metadata": {},
   "outputs": [
    {
     "name": "stdout",
     "output_type": "stream",
     "text": [
      "['HELLO', 'WORLD', 'PYTHON']\n"
     ]
    }
   ],
   "source": [
    "words = ['hello', 'world', 'python']\n",
    "upper_case = [i.upper() for i in words]\n",
    "print(upper_case)"
   ]
  },
  {
   "cell_type": "code",
   "execution_count": 61,
   "metadata": {},
   "outputs": [
    {
     "name": "stdout",
     "output_type": "stream",
     "text": [
      "[1, 2, 3, 4, 5, 6, 'h', 'e', 'l', 'l', 'o']\n"
     ]
    }
   ],
   "source": [
    "matrix = [[1, 2, 3], [4, 5, 6], \"hello\"]\n",
    "flatend = [num for mat in matrix for num in mat]\n",
    "print(flatend)"
   ]
  },
  {
   "cell_type": "code",
   "execution_count": 62,
   "metadata": {},
   "outputs": [
    {
     "name": "stdout",
     "output_type": "stream",
     "text": [
      "[4, 16, 36, 64, 100]\n"
     ]
    }
   ],
   "source": [
    "numbers = [1, 2, 3, 4, 5, 6, 7, 8, 9, 10]\n",
    "even_squares = [num**2 for num in numbers if num%2 == 0]\n",
    "print(even_squares)"
   ]
  },
  {
   "cell_type": "code",
   "execution_count": 67,
   "metadata": {},
   "outputs": [
    {
     "name": "stdout",
     "output_type": "stream",
     "text": [
      "['1', '2', '3', '4']\n"
     ]
    }
   ],
   "source": [
    "text = \"a1b2c3d4\"\n",
    "a = [char for char in text if char.isdigit()]\n",
    "print(a)"
   ]
  },
  {
   "cell_type": "code",
   "execution_count": 69,
   "metadata": {},
   "outputs": [
    {
     "name": "stdout",
     "output_type": "stream",
     "text": [
      "[(1, 'a'), (1, 'b'), (1, 'c'), (2, 'a'), (2, 'b'), (2, 'c'), (3, 'a'), (3, 'b'), (3, 'c')]\n"
     ]
    }
   ],
   "source": [
    "list1 = [1, 2, 3]\n",
    "list2 = ['a', 'b', 'c']\n",
    "a = [(x,y) for x in list1 for y in list2]\n",
    "print(a)"
   ]
  },
  {
   "cell_type": "code",
   "execution_count": 72,
   "metadata": {},
   "outputs": [
    {
     "name": "stdout",
     "output_type": "stream",
     "text": [
      "['h', 'e', 'l', 'o', 'w', 'e', 'l', 'c', 'o', 'm', 'e']\n"
     ]
    }
   ],
   "source": [
    "l = [\"helo\",\"welcome\"]\n",
    "a = [y for num in l for y in num]\n",
    "print(a)"
   ]
  },
  {
   "cell_type": "code",
   "execution_count": 73,
   "metadata": {},
   "outputs": [
    {
     "name": "stdout",
     "output_type": "stream",
     "text": [
      "['HELLO', 'WORLD', 'PYTHON']\n"
     ]
    }
   ],
   "source": [
    "words = ['hello', 'world', 'python']\n",
    "upper_Case = [i.upper() for i in words]\n",
    "print(upper_case)"
   ]
  },
  {
   "cell_type": "code",
   "execution_count": 76,
   "metadata": {},
   "outputs": [
    {
     "name": "stdout",
     "output_type": "stream",
     "text": [
      "2\n"
     ]
    }
   ],
   "source": [
    "a = lambda x:x+1\n",
    "print(a(1))"
   ]
  },
  {
   "cell_type": "code",
   "execution_count": 77,
   "metadata": {},
   "outputs": [
    {
     "name": "stdout",
     "output_type": "stream",
     "text": [
      "3\n"
     ]
    }
   ],
   "source": [
    "add = lambda x,y:x+y\n",
    "print(add(1,2))"
   ]
  },
  {
   "cell_type": "code",
   "execution_count": 94,
   "metadata": {},
   "outputs": [
    {
     "name": "stdout",
     "output_type": "stream",
     "text": [
      "[{'name': 'Alice', 'age': 30, 'city': 'New York'}, {'name': 'Bob', 'age': 80, 'city': 'Los Angeles'}, {'name': 'Charlie', 'age': 35, 'city': 'Chicago'}, {'name': 'pawan', 'age': 40, 'city': 'India'}]\n",
      "['Alice', 'Bob', 'Charlie', 'pawan']\n"
     ]
    }
   ],
   "source": [
    "people = [\n",
    "    {\"name\": \"Alice\", \"age\": 30, \"city\": \"New York\"},\n",
    "    {\"name\": \"Bob\", \"age\": 25, \"city\": \"Los Angeles\"},\n",
    "    {\"name\": \"Charlie\", \"age\": 35, \"city\": \"Chicago\"}\n",
    "]\n",
    "people[0][\"name\"]\n",
    "people[1][\"age\"]=80\n",
    "people[0]\n",
    "# new = {\"name\":\"pawan\",\"age\": 40, \"city\": \"India\"}\n",
    "people.append({\"name\":\"pawan\",\"age\": 40, \"city\": \"India\"})\n",
    "print(people)\n",
    "\n",
    "name_under_30 = [person[\"name\"] for person in people if person[\"age\"]>1]\n",
    "print(name_under_30)\n",
    "\n"
   ]
  },
  {
   "cell_type": "code",
   "execution_count": 103,
   "metadata": {},
   "outputs": [
    {
     "data": {
      "text/plain": [
       "[{'name': 'ben', 'age': 30, 'city': 'New York'},\n",
       " {'name': 'Bob', 'age': 25, 'city': 'Los Angeles'},\n",
       " {'name': 'Charlie', 'age': 35, 'city': 'Chicago'},\n",
       " {'name': 'Kym', 'age': 20, 'city': 'New York'}]"
      ]
     },
     "execution_count": 103,
     "metadata": {},
     "output_type": "execute_result"
    }
   ],
   "source": [
    "people = [\n",
    "    {\"name\": \"Alice\", \"age\": 30, \"city\": \"New York\"},\n",
    "    {\"name\": \"Bob\", \"age\": 25, \"city\": \"Los Angeles\"},\n",
    "    {\"name\": \"Charlie\", \"age\": 35, \"city\": \"Chicago\"}\n",
    "]\n",
    "people[0]\n",
    "people[0][\"name\"]=\"ben\"\n",
    "people[0]\n",
    "new = {\"name\": \"Kym\", \"age\": 20, \"city\": \"New York\"}\n",
    "people.append(new)\n",
    "people[:]"
   ]
  },
  {
   "cell_type": "code",
   "execution_count": 117,
   "metadata": {},
   "outputs": [
    {
     "name": "stdout",
     "output_type": "stream",
     "text": [
      "[{'key': 'name', 'value': 'Alice'}, {'key': 'age', 'value': 30}, {'key': 'city', 'value': 'New York'}, {'key': 'place', 'value': 'newyork'}]\n"
     ]
    },
    {
     "data": {
      "text/plain": [
       "'name'"
      ]
     },
     "execution_count": 117,
     "metadata": {},
     "output_type": "execute_result"
    }
   ],
   "source": [
    "people = {\n",
    "    \"name\": \"Alice\", \"age\": 30, \"city\": \"New York\"\n",
    "}\n",
    "people[\"name\"]\n",
    "people.update(place=\"newyork\")\n",
    "people\n",
    "people.values()\n",
    "convert_list = [{'key': key, 'value': value} for key,value in people.items()]\n",
    "print(convert_list)\n",
    "convert_list[0][\"key\"]"
   ]
  },
  {
   "cell_type": "code",
   "execution_count": 123,
   "metadata": {},
   "outputs": [
    {
     "name": "stdout",
     "output_type": "stream",
     "text": [
      "140675356438016\n"
     ]
    },
    {
     "data": {
      "text/plain": [
       "140675356438016"
      ]
     },
     "execution_count": 123,
     "metadata": {},
     "output_type": "execute_result"
    }
   ],
   "source": [
    "eggs = ['cat', 'dog']\n",
    "print(id(eggs))\n",
    "eggs.append('bounce')\n",
    "id(eggs)"
   ]
  },
  {
   "cell_type": "code",
   "execution_count": 127,
   "metadata": {},
   "outputs": [
    {
     "name": "stdout",
     "output_type": "stream",
     "text": [
      "['cat', 'dog']\n"
     ]
    }
   ],
   "source": [
    "import copy\n",
    "eggs = ['cat', 'dog']\n",
    "new = copy.copy(eggs)\n",
    "print(new)\n"
   ]
  },
  {
   "cell_type": "code",
   "execution_count": 128,
   "metadata": {},
   "outputs": [
    {
     "name": "stdout",
     "output_type": "stream",
     "text": [
      "6\n",
      "1\n",
      "2\n",
      "3\n"
     ]
    }
   ],
   "source": [
    "for i in [6, 1, 2, 3]:\n",
    "    print(i)"
   ]
  },
  {
   "cell_type": "code",
   "execution_count": 132,
   "metadata": {},
   "outputs": [
    {
     "data": {
      "text/plain": [
       "True"
      ]
     },
     "execution_count": 132,
     "metadata": {},
     "output_type": "execute_result"
    }
   ],
   "source": [
    "supplies = ['pens', 'staplers', 'flamethrowers', 'binders']\n",
    "\"nonm\" not in supplies\n",
    "# for i in range(len(supplies)):\n",
    "#     print(\"Index\" + str(i) + 'is from the ' + supplies[i])"
   ]
  },
  {
   "cell_type": "code",
   "execution_count": 134,
   "metadata": {},
   "outputs": [
    {
     "name": "stdout",
     "output_type": "stream",
     "text": [
      "my cat color is gray\n",
      "my cat is in gray\n"
     ]
    }
   ],
   "source": [
    "mycat = {'size': 'fat', 'color': 'gray', 'disposition': 'loud'}\n",
    "print(f'my cat color is {mycat[\"color\"]}')\n",
    "print('my cat is in ' + mycat[\"color\"] )"
   ]
  },
  {
   "cell_type": "code",
   "execution_count": 137,
   "metadata": {},
   "outputs": [
    {
     "data": {
      "text/plain": [
       "{134: 'mac', 1234: 'mnb'}"
      ]
     },
     "execution_count": 137,
     "metadata": {},
     "output_type": "execute_result"
    }
   ],
   "source": [
    "spam = {134:\"mac\",1234:\"mnb\"}\n",
    "spam"
   ]
  },
  {
   "cell_type": "code",
   "execution_count": null,
   "metadata": {},
   "outputs": [],
   "source": [
    "spam = ['cats', 'dogs', 'moose']\n",
    "bacon = ['dogs', 'moose', 'cats']\n",
    "spam==bacon\n"
   ]
  },
  {
   "cell_type": "code",
   "execution_count": 147,
   "metadata": {},
   "outputs": [
    {
     "data": {
      "text/plain": [
       "False"
      ]
     },
     "execution_count": 147,
     "metadata": {},
     "output_type": "execute_result"
    }
   ],
   "source": [
    "eggs = {'name': 'Zophie', 'species': 'cat', 'age': '8','place':'usa'}\n",
    "ham = {'species': 'cat', 'age': '8', 'name': 'Zophie'}\n",
    "eggs==ham"
   ]
  },
  {
   "cell_type": "markdown",
   "metadata": {},
   "source": []
  },
  {
   "cell_type": "code",
   "execution_count": 163,
   "metadata": {},
   "outputs": [
    {
     "name": "stdout",
     "output_type": "stream",
     "text": [
      "{'name': 'KYM', 'class': 8}\n"
     ]
    }
   ],
   "source": [
    "students = {}\n",
    "students[\"name\"]= \"John\"\n",
    "students[\"class\"] = 8\n",
    "students.update(name = \"KYM\")\n",
    "\n",
    "print(students)\n"
   ]
  },
  {
   "cell_type": "code",
   "execution_count": 168,
   "metadata": {},
   "outputs": [
    {
     "name": "stdout",
     "output_type": "stream",
     "text": [
      "(1, 0)\n"
     ]
    }
   ],
   "source": [
    "l1 = [1,2,3,4]\n",
    "l2 = [0,9,8,7]\n",
    "a = [(x,y)for x in l1 for y in l2]\n",
    "print(a[0])\n"
   ]
  },
  {
   "cell_type": "code",
   "execution_count": 181,
   "metadata": {},
   "outputs": [
    {
     "name": "stdout",
     "output_type": "stream",
     "text": [
      "{'color': 'black', 'age': 42}\n"
     ]
    },
    {
     "data": {
      "text/plain": [
       "{'color': 'black', 'age': 42, 'product': 'toy', 'vehicle': 'car'}"
      ]
     },
     "execution_count": 181,
     "metadata": {},
     "output_type": "execute_result"
    }
   ],
   "source": [
    "items = {'color': 'red', 'age': 42}\n",
    "items.get('cups')\n",
    "items.update(color= \"black\")\n",
    "print(items)\n",
    "items[\"product\"]=\"toy\"\n",
    "items[\"vehicle\"]=\"car\"\n",
    "items[\"place\"]=\"india\"\n",
    "items.pop(\"place\")\n",
    "items"
   ]
  },
  {
   "cell_type": "code",
   "execution_count": 186,
   "metadata": {},
   "outputs": [
    {
     "name": "stdout",
     "output_type": "stream",
     "text": [
      "{'p': 1, 'y': 1, 't': 1, 'h': 1, 'o': 2, 'n': 1, ',': 1, 'w': 1, 'r': 1, 'l': 1, 'd': 1}\n"
     ]
    }
   ],
   "source": [
    "msg = \"python,world\"\n",
    "count = {}\n",
    "for i in msg:\n",
    "    count[i] = count.get(i,0)+1\n",
    "print(count)"
   ]
  },
  {
   "cell_type": "code",
   "execution_count": 189,
   "metadata": {},
   "outputs": [
    {
     "data": {
      "text/plain": [
       "(3, 2)"
      ]
     },
     "execution_count": 189,
     "metadata": {},
     "output_type": "execute_result"
    }
   ],
   "source": [
    "def sum(a,b):\n",
    "    return a+b,a*b\n",
    "sum(1,2)"
   ]
  },
  {
   "cell_type": "code",
   "execution_count": 190,
   "metadata": {},
   "outputs": [],
   "source": [
    "sum_value,multiple_value = sum(1,3)"
   ]
  },
  {
   "cell_type": "code",
   "execution_count": 191,
   "metadata": {},
   "outputs": [],
   "source": [
    "L1=[1,\"hello\",[0,\"2\"]]\n"
   ]
  },
  {
   "cell_type": "code",
   "execution_count": 192,
   "metadata": {},
   "outputs": [],
   "source": [
    "t = (1,\"Hello\",0.9)"
   ]
  },
  {
   "cell_type": "code",
   "execution_count": 215,
   "metadata": {},
   "outputs": [
    {
     "name": "stdout",
     "output_type": "stream",
     "text": [
      "{'abhishek': 45, 'raju': 38, 'ramu': 34}\n"
     ]
    }
   ],
   "source": [
    "d = {\"name\":\"mounika\",\"age\":25,\"place\":\"Ap\"}\n",
    "# d[\"Country\"]=\"India\"\n",
    "d[\"name\"]=\"vasantha\"\n",
    "d.update(country= \"USA\")\n",
    "d[\"country\"] in d.values()\n",
    "new = {\"raju\":38, \"ramu\":34,\"abhishek\":45}\n",
    "new.items()\n",
    "sort_value = dict(sorted(new.items(),key = lambda x: x[0]))\n",
    "print(sort_value)\n"
   ]
  },
  {
   "cell_type": "code",
   "execution_count": 224,
   "metadata": {},
   "outputs": [
    {
     "name": "stdout",
     "output_type": "stream",
     "text": [
      "[66, 689, -7]\n"
     ]
    }
   ],
   "source": [
    "l1=[1,34,8,6,0,-7,689,66]\n",
    "# [x for x in sorted(l1)]\n",
    "l2 = l1[-3:]\n",
    "print(list(reversed(l2)))\n",
    "\n"
   ]
  },
  {
   "cell_type": "code",
   "execution_count": null,
   "metadata": {},
   "outputs": [],
   "source": []
  }
 ],
 "metadata": {
  "kernelspec": {
   "display_name": "Python 3",
   "language": "python",
   "name": "python3"
  },
  "language_info": {
   "codemirror_mode": {
    "name": "ipython",
    "version": 3
   },
   "file_extension": ".py",
   "mimetype": "text/x-python",
   "name": "python",
   "nbconvert_exporter": "python",
   "pygments_lexer": "ipython3",
   "version": "3.10.12"
  }
 },
 "nbformat": 4,
 "nbformat_minor": 2
}
