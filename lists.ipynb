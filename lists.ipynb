{
 "cells": [
  {
   "cell_type": "code",
   "execution_count": null,
   "metadata": {},
   "outputs": [],
   "source": [
    "l = ['world', 3.1415, True, None, 42]\n",
    "print(l)\n",
    "'Hello, ' + l[0] + ' welcome to the '+l[0]\n",
    "l[int(1.0)]"
   ]
  },
  {
   "cell_type": "code",
   "execution_count": null,
   "metadata": {},
   "outputs": [],
   "source": [
    "l = [['cat', 'bat'], [10, 20, 30, 40, 50]]\n",
    "l[0][0]\n",
    "l[1][2]\n",
    "l[-1]\n",
    "l[-1][-1]\n",
    "l[-1][-4]\n",
    "l[0][-1]\n",
    "\n",
    "print(\"the Elephant is afraid of the \" + l[0][1] + \".\")"
   ]
  },
  {
   "cell_type": "markdown",
   "metadata": {},
   "source": [
    " # List Slicing\n"
   ]
  },
  {
   "cell_type": "code",
   "execution_count": null,
   "metadata": {},
   "outputs": [],
   "source": [
    "spam = ['cat', 'bat', 'rat', 'elephant']\n",
    "# spam[0:3]\n",
    "# spam[0:-1]\n",
    "# spam[0:-2]\n",
    "# spam[:4]\n",
    "# spam[2:]\n",
    "# spam[:]\n",
    "spam[5:]"
   ]
  },
  {
   "cell_type": "code",
   "execution_count": null,
   "metadata": {},
   "outputs": [],
   "source": [
    "spam = ['cat', 'bat', 'rat', 'elephant']\n",
    "len(spam)"
   ]
  },
  {
   "cell_type": "code",
   "execution_count": null,
   "metadata": {},
   "outputs": [],
   "source": [
    "spam = ['cat', 'bat', 'rat', 'elephant']\n",
    "spam[0]=\"appale\"\n",
    "# spam\n",
    "spam[0]=\"banana\"\n",
    "spam[2]=spam[1]\n",
    "spam"
   ]
  },
  {
   "cell_type": "code",
   "execution_count": null,
   "metadata": {},
   "outputs": [],
   "source": [
    "catNames = []\n",
    "while True:\n",
    "    print('Enter the name of cat ' + str(len(catNames) + 1) +\n",
    "      ' (Or enter nothing to stop.):')\n",
    "    name = input()\n",
    "    if name == '':\n",
    "        break\n",
    "    catNames = catNames + [name]\n",
    "print('The cat names are:')\n",
    "for name in catNames:\n",
    "    print('  ' + name)"
   ]
  },
  {
   "cell_type": "code",
   "execution_count": null,
   "metadata": {},
   "outputs": [],
   "source": [
    "for i in range(4):\n",
    "    print(i)"
   ]
  },
  {
   "cell_type": "code",
   "execution_count": null,
   "metadata": {},
   "outputs": [],
   "source": [
    "l = [1,2,3,4,5]\n",
    "for i in range(len(l)):\n",
    "    print(l[i])"
   ]
  },
  {
   "cell_type": "code",
   "execution_count": null,
   "metadata": {},
   "outputs": [],
   "source": [
    "l = [2,1,2,3,45]\n",
    "for i in range(len(l)):\n",
    "    print(i)"
   ]
  },
  {
   "cell_type": "code",
   "execution_count": null,
   "metadata": {},
   "outputs": [],
   "source": [
    "supplies = ['pens', 'staplers', 'flamethrowers', 'binders']\n",
    "for i in range(len(supplies)):\n",
    "    print(\"index \" + str(i) + \" in supplies is : \" + supplies[i])"
   ]
  },
  {
   "cell_type": "code",
   "execution_count": null,
   "metadata": {},
   "outputs": [],
   "source": [
    "myPets = ['Zophie', 'Pooka', 'Fat-tail']\n",
    "name = input()\n",
    "if name in myPets:\n",
    "    print(\"in lists\")\n",
    "else:\n",
    "    print(\"not in the lists\")"
   ]
  },
  {
   "cell_type": "code",
   "execution_count": null,
   "metadata": {},
   "outputs": [],
   "source": [
    "cat = ['fat', 'gray', 'loud']\n",
    "size = cat[0]\n",
    "gray =cat[1]\n",
    "position = cat[2]\n",
    "size,gray,position = cat"
   ]
  },
  {
   "cell_type": "code",
   "execution_count": null,
   "metadata": {},
   "outputs": [],
   "source": [
    "products = [\"bread\",\"milk\",\"jom\"]\n",
    "for index,item in enumerate(products):\n",
    "    print('index ' + str(index) + ' from the products is: ' + item )"
   ]
  },
  {
   "cell_type": "code",
   "execution_count": null,
   "metadata": {},
   "outputs": [],
   "source": [
    "products = [\"bread\",\"milk\",\"jom\"]\n",
    "for i in range((len(products))):\n",
    "    print('Index ' + str(i) + ' from products is:' + products[i])"
   ]
  },
  {
   "cell_type": "code",
   "execution_count": null,
   "metadata": {},
   "outputs": [],
   "source": []
  }
 ],
 "metadata": {
  "kernelspec": {
   "display_name": "Python 3",
   "language": "python",
   "name": "python3"
  },
  "language_info": {
   "codemirror_mode": {
    "name": "ipython",
    "version": 3
   },
   "file_extension": ".py",
   "mimetype": "text/x-python",
   "name": "python",
   "nbconvert_exporter": "python",
   "pygments_lexer": "ipython3",
   "version": "3.10.12"
  }
 },
 "nbformat": 4,
 "nbformat_minor": 2
}
