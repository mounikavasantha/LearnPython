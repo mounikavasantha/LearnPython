{
 "cells": [
  {
   "cell_type": "code",
   "execution_count": null,
   "metadata": {},
   "outputs": [],
   "source": [
    "print('{0:.6}'.format(7.0%3))"
   ]
  },
  {
   "cell_type": "code",
   "execution_count": null,
   "metadata": {},
   "outputs": [],
   "source": [
    "a=8\n",
    "b=9\n",
    "c = (\"a : {},b value: {}\".format(a,b))\n"
   ]
  },
  {
   "cell_type": "code",
   "execution_count": null,
   "metadata": {},
   "outputs": [],
   "source": [
    "name = \"Alice\"\n",
    "age = 30\n",
    "\n",
    "print(\"Name: {}, Age: {}\".format(name, age))\n",
    "# Output: Name: Alice, Age: 30"
   ]
  },
  {
   "cell_type": "code",
   "execution_count": null,
   "metadata": {},
   "outputs": [],
   "source": [
    "print('{0:.4}'.format(1/3))"
   ]
  },
  {
   "cell_type": "code",
   "execution_count": null,
   "metadata": {},
   "outputs": [],
   "source": [
    "~5"
   ]
  },
  {
   "cell_type": "code",
   "execution_count": null,
   "metadata": {},
   "outputs": [],
   "source": [
    "string=\"mounika,reddy\"\n",
    "d=print(string.split(\",\"))\n",
    "\n",
    "new=\"-\".join(string)\n",
    "print(new)"
   ]
  },
  {
   "cell_type": "code",
   "execution_count": null,
   "metadata": {},
   "outputs": [],
   "source": [
    "name=\"abc\"\n",
    "age=20\n",
    "new=\"name : %s,age: %d\" % (name,age)"
   ]
  },
  {
   "cell_type": "code",
   "execution_count": null,
   "metadata": {},
   "outputs": [],
   "source": [
    "spam = \"That is Alice's cat.\"\n",
    "print(spam)"
   ]
  },
  {
   "cell_type": "code",
   "execution_count": null,
   "metadata": {},
   "outputs": [],
   "source": [
    "spam = 'Say hi to Bob\\'s mother.'\n",
    "print(spam)"
   ]
  },
  {
   "cell_type": "code",
   "execution_count": null,
   "metadata": {},
   "outputs": [],
   "source": [
    "print('Dear Alice,\\n\\n\\nEve\\'s cat has been arrested for catnapping, cat burglary, and extortion.\\n\\nSincerely,\\nBob')"
   ]
  },
  {
   "cell_type": "code",
   "execution_count": null,
   "metadata": {},
   "outputs": [],
   "source": [
    "spam = 'Hello, world!'\n",
    "spam[-1:]\n",
    "'H' in spam"
   ]
  },
  {
   "cell_type": "code",
   "execution_count": null,
   "metadata": {},
   "outputs": [],
   "source": [
    "name = \"abc\"\n",
    "age= 3\n",
    "print(f\"name is {name}, age is {age}\")\n",
    "print(spam.islower())\n"
   ]
  },
  {
   "cell_type": "code",
   "execution_count": null,
   "metadata": {},
   "outputs": [],
   "source": [
    "name = \"abc\"\n",
    "age=2\n",
    "print('my name is {} and age is {}'.format(name,age))"
   ]
  },
  {
   "cell_type": "code",
   "execution_count": null,
   "metadata": {},
   "outputs": [],
   "source": [
    "name = \"abc\"\n",
    "age=23\n",
    "print(\"my name is %s and age is %d\" %(name,age))"
   ]
  },
  {
   "cell_type": "code",
   "execution_count": null,
   "metadata": {},
   "outputs": [],
   "source": [
    "# spam = \"hello world\"\n",
    "spam = \"123scg 4345\"\n",
    "# spam.isalpha()\n",
    "spam.isalnum()"
   ]
  },
  {
   "cell_type": "code",
   "execution_count": null,
   "metadata": {},
   "outputs": [],
   "source": [
    "a=\"Title good\"\n",
    "\" \".isspace()\n",
    "a.startswith(\"Tit\")\n",
    "a.startswith(\"Title good\")\n",
    "# a.endswith(\"od\")\n"
   ]
  },
  {
   "cell_type": "code",
   "execution_count": null,
   "metadata": {},
   "outputs": [],
   "source": [
    "a=\"Title good\"\n",
    "b=a.split()\n",
    "# print(b)\n",
    "c= \" \".join(b)\n",
    "print(c)\n"
   ]
  },
  {
   "cell_type": "code",
   "execution_count": null,
   "metadata": {},
   "outputs": [],
   "source": [
    "' - '.join(['cats', 'rats', 'bats'])\n"
   ]
  },
  {
   "cell_type": "code",
   "execution_count": null,
   "metadata": {},
   "outputs": [],
   "source": [
    "'abc '.join(['My', 'name', 'is', 'Simon'])\n"
   ]
  },
  {
   "cell_type": "code",
   "execution_count": null,
   "metadata": {},
   "outputs": [],
   "source": []
  },
  {
   "cell_type": "code",
   "execution_count": null,
   "metadata": {},
   "outputs": [],
   "source": [
    "sentence = \"Hello world from Python\"\n",
    "sentence.split(\"llo\")\n",
    "# \"-\".join(new)\n"
   ]
  },
  {
   "cell_type": "code",
   "execution_count": null,
   "metadata": {},
   "outputs": [],
   "source": [
    "'Hello'.ljust(10)\n"
   ]
  },
  {
   "cell_type": "code",
   "execution_count": null,
   "metadata": {},
   "outputs": [],
   "source": [
    "\"kimn\".ljust(10,\"-\")"
   ]
  },
  {
   "cell_type": "code",
   "execution_count": null,
   "metadata": {},
   "outputs": [],
   "source": [
    "a = '              Hello'\n",
    "len(a)\n",
    "a.lstrip()"
   ]
  },
  {
   "cell_type": "code",
   "execution_count": null,
   "metadata": {},
   "outputs": [],
   "source": [
    "a =\"hello, world!\"\n",
    "a.rstrip()"
   ]
  },
  {
   "cell_type": "code",
   "execution_count": null,
   "metadata": {},
   "outputs": [],
   "source": [
    "ord('A')"
   ]
  },
  {
   "cell_type": "code",
   "execution_count": null,
   "metadata": {},
   "outputs": [],
   "source": [
    "ord('B')\n",
    "ord('c')\n",
    "chr(ord('A')+3)\n"
   ]
  },
  {
   "cell_type": "code",
   "execution_count": null,
   "metadata": {},
   "outputs": [],
   "source": [
    "import paperclip\n",
    "\n",
    "paperclip.copy(\"new\")\n",
    "paperclip.paste()"
   ]
  },
  {
   "cell_type": "code",
   "execution_count": null,
   "metadata": {},
   "outputs": [],
   "source": [
    "import pyinputplus as pyip\n",
    "response = pyip.inputNum(allowRegexes=[r'(I|V|X|L|C|D|M)+'])\n"
   ]
  },
  {
   "cell_type": "code",
   "execution_count": null,
   "metadata": {},
   "outputs": [],
   "source": [
    "from pathlib import Path\n",
    "str(Path(\"bacon\",\"eggs\",\"lamp\"))"
   ]
  },
  {
   "cell_type": "code",
   "execution_count": null,
   "metadata": {},
   "outputs": [],
   "source": [
    "homeFolder = r'C:\\Users\\Al'\n",
    "subFolder = 'spam'\n",
    "'\\\\'.join([homeFolder,subFolder])"
   ]
  },
  {
   "cell_type": "code",
   "execution_count": null,
   "metadata": {},
   "outputs": [],
   "source": [
    "from pathlib import Path\n",
    "import os\n",
    "Path.cwd()\n",
    "# os.chdir('home.mounika/learn_python')\n",
    "os.makedirs(\"new\")\n",
    "# Path.home()"
   ]
  },
  {
   "cell_type": "code",
   "execution_count": null,
   "metadata": {},
   "outputs": [],
   "source": [
    "from pathlib import Path\n",
    "Path.cwd()/Path(\"new\")\n",
    "os.path.relpath()(\".\",Path.cwd())"
   ]
  },
  {
   "cell_type": "markdown",
   "metadata": {},
   "source": []
  },
  {
   "cell_type": "code",
   "execution_count": null,
   "metadata": {},
   "outputs": [],
   "source": [
    "os.path.abspath(path)"
   ]
  },
  {
   "cell_type": "code",
   "execution_count": null,
   "metadata": {},
   "outputs": [],
   "source": [
    "from pathlib import Path\n",
    "p=Path.cwd()\n",
    "import os\n",
    "os.path.basename(p)\n",
    "os.path.split(p)\n",
    "os.path.getsize('strings.ipynb')\n",
    "os.listdir(Path.cwd())\n",
    "p= Path.cwd()\n",
    "list(p.glob('*'))\n",
    "list(p.glob('*.ipynb'))\n",
    "p.exists()\n",
    "p.is_file()\n",
    "p.is_dir()\n",
    "# p.suffix\n",
    "# p.parent.parent\n",
    "# p.anchor\n",
    "# p.stem\n",
    "# path.stem\n",
    "# p.parents[0]"
   ]
  },
  {
   "cell_type": "code",
   "execution_count": null,
   "metadata": {},
   "outputs": [],
   "source": [
    "with open(\"sample.txt\",\"r\") as f:\n",
    "    cont = f.read()\n",
    "    print(cont)"
   ]
  },
  {
   "cell_type": "code",
   "execution_count": null,
   "metadata": {},
   "outputs": [],
   "source": [
    "with open(\"sample.txt\",\"a\") as f:\n",
    "    cont = f.write(\"welcome\")\n",
    "    with open('sample.txt',\"r\") as file:\n",
    "        contents = file.read()\n",
    "        print(contents)"
   ]
  },
  {
   "cell_type": "code",
   "execution_count": null,
   "metadata": {},
   "outputs": [],
   "source": [
    "from pathlib import Path\n",
    "path = Path(\"sample.txt\")\n",
    "path.write_text(\"new one\")\n",
    "path.read_text()"
   ]
  },
  {
   "cell_type": "code",
   "execution_count": null,
   "metadata": {},
   "outputs": [],
   "source": [
    "queries = int(input().strip(\" \"))"
   ]
  },
  {
   "cell_type": "code",
   "execution_count": null,
   "metadata": {},
   "outputs": [],
   "source": [
    "with open(\"smaple.txt\",\"w\") as f:\n",
    "    f.write(\"another sample file\")"
   ]
  },
  {
   "cell_type": "code",
   "execution_count": null,
   "metadata": {},
   "outputs": [],
   "source": [
    "import zipfile\n",
    "import os\n",
    "files_list = [\"sample.txt\",\"smaple.txt\"]\n",
    "with zipfile.ZipFile(\"example.zip\",\"w\") as file:\n",
    "    for x in files_list:\n",
    "        file.write(x)"
   ]
  },
  {
   "cell_type": "code",
   "execution_count": null,
   "metadata": {},
   "outputs": [],
   "source": [
    "with zipfile.ZipFile(\"example.zip\",\"r\") as zipf:\n",
    "    print(zipf.namelist())\n",
    "\n",
    "    zipf.extractall('extracted_files')"
   ]
  },
  {
   "cell_type": "code",
   "execution_count": null,
   "metadata": {},
   "outputs": [],
   "source": [
    "import zipfile\n",
    "import os\n",
    "files_list=[\"sample.txt\",\"smaple.txt\"]\n",
    "with zipfile.ZipFile(\"compressed_zipfile.zip\",\"w\",zipfile.ZIP_DEFLATED) as f:\n",
    "    for x in files_list:\n",
    "        f.write(x)"
   ]
  },
  {
   "cell_type": "code",
   "execution_count": null,
   "metadata": {},
   "outputs": [],
   "source": [
    "import zipfile\n",
    "extract= zipfile.ZipFile('example.zip')\n",
    "print(extract.extractall())\n",
    "extract.getinfo('sample.txt')"
   ]
  },
  {
   "cell_type": "code",
   "execution_count": null,
   "metadata": {},
   "outputs": [],
   "source": [
    "import csv\n",
    "\n",
    "data=[['Name','Age','City'],[\"mounika\",25,\"India\"],[\"nani\",20,\"India\"]]\n",
    "with open(\"new.csv\",\"w\",newline='') as file:\n",
    "    writer=csv.writer(file)\n",
    "    writer.writerows(data)\n",
    "\n"
   ]
  },
  {
   "cell_type": "code",
   "execution_count": null,
   "metadata": {},
   "outputs": [],
   "source": [
    "import csv\n",
    "with open('new.csv','r') as file:\n",
    "    reader=csv.reader(file)\n",
    "    for row in reader:\n",
    "        print(row)\n",
    "        print(row[2])"
   ]
  },
  {
   "cell_type": "code",
   "execution_count": null,
   "metadata": {},
   "outputs": [],
   "source": [
    "import csv\n",
    "data=[{'Name': 'Alice', 'Age': 30, 'City': 'New York'},\n",
    "    {'Name': 'Bob', 'Age': 25, 'City': 'Los Angeles'},\n",
    "    {'Name': 'Charlie', 'Age': 35, 'City': 'Chicago'}]\n",
    "\n",
    "with open(\"people.csv\",\"w\",newline=\"\") as file:\n",
    "    fieldnames=[\"Name\",\"Age\",\"City\"]\n",
    "    writer=csv.DictWriter(file,fieldnames=fieldnames)\n",
    "    writer.writeheader()\n",
    "    writer.writerows(data)\n"
   ]
  },
  {
   "cell_type": "code",
   "execution_count": null,
   "metadata": {},
   "outputs": [],
   "source": [
    "import csv\n",
    "with open(\"people.csv\",\"r\") as file:\n",
    "    reader=csv.DictReader(file)\n",
    "    for row in reader:\n",
    "        print(row)\n"
   ]
  },
  {
   "cell_type": "code",
   "execution_count": null,
   "metadata": {},
   "outputs": [],
   "source": [
    "import json\n",
    "x='{\"name\":\"mounika\",\"age\":28,\"technology\":\"python\",\"non_technology\":null}'\n",
    "y=json.loads(x)\n",
    "print(y[\"name\"])\n",
    "print(y)\n"
   ]
  },
  {
   "cell_type": "code",
   "execution_count": null,
   "metadata": {},
   "outputs": [],
   "source": [
    "pythonValue = {'isCat': True, 'miceCaught': 0, 'name': 'Zophie',\n",
    "'felineIQ': None}\n",
    "y=json.dumps(pythonValue)\n",
    "print(y[])"
   ]
  },
  {
   "cell_type": "code",
   "execution_count": null,
   "metadata": {},
   "outputs": [],
   "source": [
    "import requests\n",
    "url='https://jsonplaceholder.typicode.com/posts'\n",
    "res=requests.get(url)\n",
    "print(res.status_code)\n",
    "data=res.json()\n",
    "print(data)\n",
    "obj=json.dumps(data,indent=4,separators=(\",\",\" \"))\n",
    "print(obj)\n"
   ]
  },
  {
   "cell_type": "code",
   "execution_count": null,
   "metadata": {},
   "outputs": [],
   "source": [
    "import requests\n",
    "import json\n",
    "url = 'https://jsonplaceholder.typicode.com/posts'\n",
    "payload={\"title\":\"foo\",\"body\":\"bar\",\"userId\":1}\n",
    "res=requests.post(url,json=payload)\n",
    "data=res.json()\n",
    "print(data)\n",
    "data['title']\n",
    "new=json.dumps(data)\n",
    "print(new)\n",
    "dict=json.loads(new)\n",
    "\n",
    "dict[\"title\"]"
   ]
  },
  {
   "cell_type": "code",
   "execution_count": null,
   "metadata": {},
   "outputs": [],
   "source": [
    "import re\n",
    "txt=\"The rain in Spain stays mainly in the plain.\"\n",
    "mat = re.match(r\"The\",txt)\n",
    "if mat:\n",
    "    print(f\"found {mat.group()}\")\n",
    "else:\n",
    "    print(\"not found\")\n",
    "ser=re.search(\"rain\",txt)\n",
    "print(ser.group())\n",
    "find=re.findall(\"ain\",txt)\n",
    "print(find)\n",
    "fin=re.finditer(\"ain\",txt)\n",
    "for x in fin:\n",
    "    print(x.group(),x.start())\n",
    "sub=re.sub(\"rain\",\"snow\",txt)\n",
    "print(sub)\n",
    "spl=re.split(r\"\\s\",txt)\n",
    "print(spl)\n"
   ]
  },
  {
   "cell_type": "code",
   "execution_count": null,
   "metadata": {},
   "outputs": [],
   "source": [
    "text=\"cooper,cooper.alice@web.com\"\n",
    "firstname_pattern = r'\\b[a-zA-Z]+\\b'\n",
    "email_pattern=r'[a-zA-Z0-9._%+-]+@[a-zA-Z0-9.-]+\\.[a-zA-Z]{2,}'\n",
    "emails = re.findall(email_pattern, text)\n",
    "print(emails)"
   ]
  },
  {
   "cell_type": "code",
   "execution_count": null,
   "metadata": {},
   "outputs": [],
   "source": [
    "import random\n",
    "a =random.random()\n",
    "print(random.randint(1,5))\n",
    "print(a)\n",
    "print(random.choice([\"apple\",\"banana\"]))\n",
    "my_list=[1,3,2,4]\n",
    "random.shuffle(my_list)\n",
    "print(my_list)\n",
    "print(random.sample([1, 2, 3, 4, 5], 2))"
   ]
  },
  {
   "cell_type": "code",
   "execution_count": null,
   "metadata": {},
   "outputs": [],
   "source": [
    "try:\n",
    "    num=int(input(\"enter a num\"))\n",
    "    if num:\n",
    "        print(f\"num {num} is entered\")\n",
    "except ValueError:\n",
    "    print(\"please check the num\")"
   ]
  },
  {
   "cell_type": "code",
   "execution_count": null,
   "metadata": {},
   "outputs": [],
   "source": [
    "with open(\"new.txt\",\"w\") as file:\n",
    "    file.write('hello')\n",
    "import os\n",
    "new_file=\"dummy.txt\"\n",
    "os.rename(\"new.txt\",new_file)\n",
    "os.remove(new_file)\n",
    "absolute_path =os.path.abspath(new_file)\n",
    "print(absolute_path)\n"
   ]
  },
  {
   "cell_type": "code",
   "execution_count": null,
   "metadata": {},
   "outputs": [],
   "source": [
    "data={\"mounika\":32,\"king\":45}\n",
    "sort=dict((sorted(data.items(),key=lambda item:item[0])))\n",
    "print(sort)"
   ]
  },
  {
   "cell_type": "code",
   "execution_count": null,
   "metadata": {},
   "outputs": [],
   "source": [
    "print(\"happy birthday {}\".format(\"alexa\"))"
   ]
  },
  {
   "cell_type": "code",
   "execution_count": null,
   "metadata": {},
   "outputs": [],
   "source": [
    "data=\"string-okil\"\n",
    "data.split(\"-\")\n",
    "print(data.swapcase())\n",
    "print(data[::-1])\n"
   ]
  },
  {
   "cell_type": "code",
   "execution_count": null,
   "metadata": {},
   "outputs": [],
   "source": [
    "my_list = [1, 2, 3, 4, 5]\n",
    "my_list.reverse()\n",
    "my_list.sort()\n",
    "print(my_list)"
   ]
  },
  {
   "cell_type": "code",
   "execution_count": null,
   "metadata": {},
   "outputs": [],
   "source": [
    "\n",
    "my_dict = {\"a\": 1, \"b\": 2, \"c\": 3}\n",
    "reverse=dict(reversed(list(my_dict.items())))\n",
    "print(reverse)"
   ]
  },
  {
   "cell_type": "code",
   "execution_count": null,
   "metadata": {},
   "outputs": [],
   "source": [
    "my_dict = {\"a\": 1, \"b\": 2, \"c\": 3}\n",
    "my_dict[\"a\"]=5\n",
    "del my_dict[\"b\"]\n",
    "my_dict[\"b\"]=4\n",
    "my_dict.items()"
   ]
  },
  {
   "cell_type": "code",
   "execution_count": null,
   "metadata": {},
   "outputs": [],
   "source": [
    "string=\"happu\"\n",
    "string.replace(\"u\",\"y\")"
   ]
  },
  {
   "cell_type": "code",
   "execution_count": null,
   "metadata": {},
   "outputs": [],
   "source": [
    "new=(os.path.abspath(\".\"))\n",
    "a=(os.path.basename(new))\n",
    "b=(os.path.dirname(new))\n",
    "os.path.split(new)"
   ]
  },
  {
   "cell_type": "code",
   "execution_count": null,
   "metadata": {},
   "outputs": [],
   "source": [
    "import json\n",
    "stringOfJsonData = '{\"name\": \"Zophie\", \"isCat\": true, \"miceCaught\": 0,\"felineIQ\": null}'\n",
    "new=json.loads(stringOfJsonData)\n",
    "print(new[\"name\"])"
   ]
  },
  {
   "cell_type": "code",
   "execution_count": null,
   "metadata": {},
   "outputs": [],
   "source": [
    "import requests\n",
    "from bs4 import BeautifulSoup\n",
    "import csv\n",
    "\n",
    "url=\"http://example.com\"\n",
    "res=requests.get(url)\n",
    "html_content=res.content\n",
    "soup = BeautifulSoup(html_content,'html.parser')\n",
    "headings=soup.find_all('h1')\n",
    "for heading in headings:\n",
    "    print(heading.text)\n",
    "\n",
    "with open(\"headings.csv\",\"w\",newline=\"\") as file:\n",
    "    writer=csv.writer(file)\n",
    "    writer.writerow(['Heading'])\n",
    "    for heading in headings:\n",
    "        writer.writerow([heading.text])\n"
   ]
  },
  {
   "cell_type": "code",
   "execution_count": null,
   "metadata": {},
   "outputs": [],
   "source": [
    "import requests\n",
    "\n",
    "res = requests.get('https://automatetheboringstuff.com/files/rj.txt')\n",
    "print(type(res))\n",
    "res.status_code\n",
    "print(len(res.content))\n"
   ]
  },
  {
   "cell_type": "code",
   "execution_count": null,
   "metadata": {},
   "outputs": [],
   "source": [
    "res = requests.get('https://inventwithpython.com/page_that_does_not_exist')\n",
    "res.status_code"
   ]
  },
  {
   "cell_type": "code",
   "execution_count": null,
   "metadata": {},
   "outputs": [],
   "source": [
    "import requests\n",
    "res=requests.get('https://automatetheboringstuff.com/files/rj.txt')\n",
    "res.status_code\n",
    "playfile=\n"
   ]
  },
  {
   "cell_type": "code",
   "execution_count": null,
   "metadata": {},
   "outputs": [],
   "source": []
  }
 ],
 "metadata": {
  "kernelspec": {
   "display_name": "Python 3",
   "language": "python",
   "name": "python3"
  },
  "language_info": {
   "codemirror_mode": {
    "name": "ipython",
    "version": 3
   },
   "file_extension": ".py",
   "mimetype": "text/x-python",
   "name": "python",
   "nbconvert_exporter": "python",
   "pygments_lexer": "ipython3",
   "version": "3.10.12"
  }
 },
 "nbformat": 4,
 "nbformat_minor": 2
}
