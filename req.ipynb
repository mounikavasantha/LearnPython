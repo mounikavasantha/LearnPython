{
 "cells": [
  {
   "cell_type": "code",
   "execution_count": null,
   "metadata": {},
   "outputs": [],
   "source": [
    "name=str(input())\n",
    "dict={\"alpha\":[10,30,20],\"beta\":[30,10,10]}\n",
    "if name in dict:\n",
    "    print(name)\n",
    "    res= (dict[name][0]+dict[name][1]+dict[name][2])/3\n",
    "    print(res)\n"
   ]
  },
  {
   "cell_type": "code",
   "execution_count": null,
   "metadata": {},
   "outputs": [],
   "source": [
    "L=[1,3,2,5]\n",
    "L.sort()\n",
    "print(L)\n",
    "d={\"xounika\":89,\"nani\":80}\n",
    "a = sorted(d.items())\n",
    "print(a)\n",
    "# b=dict(sorted(d.items(),key=lambda item:item[1]))\n",
    "# print(b)\n"
   ]
  },
  {
   "cell_type": "code",
   "execution_count": null,
   "metadata": {},
   "outputs": [],
   "source": [
    "import os\n",
    "from pathlib import Path\n",
    "a=os.getcwd()\n",
    "print(a)\n",
    "print(os.listdir(\".\"))\n",
    "p=Path.cwd()\n",
    "print(p)\n",
    "path = p.glob(\"*ipynb\")\n",
    "print(list(path))"
   ]
  },
  {
   "cell_type": "code",
   "execution_count": null,
   "metadata": {},
   "outputs": [],
   "source": [
    "import zipfile\n",
    "field_lists=[\"new.csv\",\"people.csv\"]\n",
    "with zipfile.ZipFile(\"sample_zip.zip\",\"w\") as zipf:\n",
    "    for file in field_lists:\n",
    "        zipf.write(file)"
   ]
  },
  {
   "cell_type": "code",
   "execution_count": null,
   "metadata": {},
   "outputs": [],
   "source": [
    "import random\n",
    "a=[1,2,3,45]\n",
    "# for i in range(len(a)):\n",
    "for i in range(len(a)):\n",
    "    b=random.choice(a)\n",
    "    print(b)\n",
    "    if b:\n",
    "        break\n",
    "print(\"it is done\")\n"
   ]
  },
  {
   "cell_type": "code",
   "execution_count": null,
   "metadata": {},
   "outputs": [],
   "source": [
    "(2+3)*6"
   ]
  },
  {
   "cell_type": "code",
   "execution_count": null,
   "metadata": {},
   "outputs": [],
   "source": [
    "(5 - 1) * ((7 + 1) / (3 - 1))"
   ]
  },
  {
   "cell_type": "code",
   "execution_count": null,
   "metadata": {},
   "outputs": [],
   "source": [
    "with open(\"daily.txt\",\"w\") as file:\n",
    "    file.write(\"hello mounika\\nhow is your training going on...\")"
   ]
  },
  {
   "cell_type": "code",
   "execution_count": null,
   "metadata": {},
   "outputs": [],
   "source": [
    "with open(\"daily.txt\",\"r\") as file:\n",
    "    contents = file.read()\n",
    "    print(contents)"
   ]
  },
  {
   "cell_type": "code",
   "execution_count": null,
   "metadata": {},
   "outputs": [],
   "source": [
    "with open(\"daily_1.txt\",\"a\") as file:\n",
    "    file.write(\"\\t next is saturday\")"
   ]
  },
  {
   "cell_type": "code",
   "execution_count": null,
   "metadata": {},
   "outputs": [],
   "source": [
    "print(\"cat\"\\\\\"dog\")"
   ]
  },
  {
   "cell_type": "code",
   "execution_count": null,
   "metadata": {},
   "outputs": [],
   "source": [
    "p=\" hello\"\n",
    "p.strip()"
   ]
  },
  {
   "cell_type": "code",
   "execution_count": null,
   "metadata": {},
   "outputs": [],
   "source": [
    "spam = 'SpamSpamBaconSpamEggsSpamSpam'\n",
    "spam.strip('amps')"
   ]
  },
  {
   "cell_type": "code",
   "execution_count": null,
   "metadata": {},
   "outputs": [],
   "source": [
    "spam = 'Hello, world!'\n",
    "spam[-3:\n",
    "     ]"
   ]
  },
  {
   "cell_type": "code",
   "execution_count": null,
   "metadata": {},
   "outputs": [],
   "source": [
    "import csv\n",
    "data=[[\"name\",\"age\",\"sub\"],[\"mounika\",27,\"python\"]]\n",
    "\n",
    "with open(\"learning.csv\",\"w\",newline=\"\") as file:\n",
    "    writer=csv.writer(file)\n",
    "    writer.writerows(data)\n",
    "with open(\"learning.csv\",\"r\") as f:\n",
    "    reader=csv.reader(f)\n",
    "    print(type(reader))\n",
    "    for row in reader:\n",
    "        print(row[0])"
   ]
  },
  {
   "cell_type": "code",
   "execution_count": null,
   "metadata": {},
   "outputs": [],
   "source": [
    "import csv\n",
    "sample_dict = {\n",
    "    \"name\": \"Mounika\",\n",
    "    \"age\": 27,\n",
    "    \"subject\": \"Python\",\n",
    "    \"skills\": [\"programming\", \"data analysis\", \"machine learning\"],\n",
    "    \"address\": {\n",
    "        \"street\": \"123 Main St\",\n",
    "        \"city\": \"Hyderabad\",\n",
    "        \"state\": \"Telangana\",\n",
    "        \"zip\": \"500081\"\n",
    "    }\n",
    "}\n",
    "flattend_dict={\n",
    "    \"name\":sample_dict[\"name\"],\n",
    "    \"age\":sample_dict[\"age\"],\n",
    "    \"subject\":sample_dict[\"subject\"],\n",
    "    \"skills\":\", \".join(sample_dict[\"skills\"]),\n",
    "    \"street\":sample_dict[\"address\"][\"street\"],\n",
    "    \"city\":sample_dict[\"address\"][\"city\"],\n",
    "    \"state\":sample_dict[\"address\"][\"state\"],\n",
    "    \"zip\":sample_dict[\"address\"][\"zip\"]\n",
    "\n",
    "\n",
    "}\n",
    "flattend_list= flattend_dict.keys()\n",
    "print(flattend_list)\n",
    "with open(\"list_dict.csv\",\"w\",newline=\"\") as file:\n",
    "    writer=csv.DictWriter(file,fieldnames=flattend_list)\n",
    "    writer.writeheader()\n",
    "    writer.writerow(flattend_dict)\n",
    "with open(\"list_dict.csv\",\"r\") as f:\n",
    "    readers=csv.DictReader(f)\n",
    "    for reader in readers:\n",
    "        print(reader)\n"
   ]
  },
  {
   "cell_type": "code",
   "execution_count": null,
   "metadata": {},
   "outputs": [],
   "source": [
    "import pandas as pd\n",
    "df= pd.read_csv(\"list_dict.csv\")\n",
    "print(df)\n",
    "data = {\n",
    "    'Name': ['Alice', 'Bob', 'Charlie'],\n",
    "    'Age': [25, 30, 35],\n",
    "    'City': ['New York', 'Los Angeles', 'Chicago']\n",
    "}\n",
    "df_1= pd.DataFrame(data)\n",
    "df_1.to_csv(\"list_dict.csv\", index=False)\n"
   ]
  },
  {
   "cell_type": "code",
   "execution_count": null,
   "metadata": {},
   "outputs": [],
   "source": [
    "import pandas as pd\n",
    "\n",
    "df = pd.read_csv(\"list_dict.csv\")\n",
    "print(df)\n",
    "\n",
    "new_data = {\n",
    "    'Name': ['David', 'Eva'],\n",
    "    'Age': [40, 45],\n",
    "    'City': ['San Francisco', 'Seattle']\n",
    "}\n",
    "df_new = pd.DataFrame(new_data)\n",
    "\n",
    "df_new = df_new[df.columns]\n",
    "\n",
    "df_new.to_csv(\"list_dict.csv\", mode='a', header=False, index=False)\n",
    "\n",
    "df_updated = pd.read_csv(\"list_dict.csv\")\n",
    "print(df_updated)"
   ]
  },
  {
   "cell_type": "code",
   "execution_count": null,
   "metadata": {},
   "outputs": [],
   "source": [
    "from pathlib import Path\n",
    "p=Path.cwd()\n",
    "p.anchor\n",
    "# p.stem\n",
    "p.name\n",
    "p.drive"
   ]
  },
  {
   "cell_type": "code",
   "execution_count": null,
   "metadata": {},
   "outputs": [],
   "source": [
    "if __name__ == '__main__':\n",
    "    N = int(input())\n",
    "    arr=[]\n",
    "    arr.append(1)\n",
    "    arr.append(2)\n",
    "    arr.insert(1,3)\n",
    "    print(arr)\n",
    "    arr.remove(1)\n",
    "    arr.append(1)\n",
    "    arr.sort()\n",
    "    arr.pop()\n",
    "    arr.reverse()\n",
    "\n"
   ]
  },
  {
   "cell_type": "code",
   "execution_count": null,
   "metadata": {},
   "outputs": [],
   "source": [
    "import itertools\n",
    "x=1\n",
    "y=1\n",
    "z=2\n",
    "elements = [x, y, z]\n",
    "\n",
    "# Generate permutations\n",
    "permutations = list(itertools.permutations(elements))\n",
    "\n",
    "# Print permutations\n",
    "for perm in permutations:\n",
    "    print(perm)"
   ]
  },
  {
   "cell_type": "code",
   "execution_count": null,
   "metadata": {},
   "outputs": [],
   "source": []
  }
 ],
 "metadata": {
  "kernelspec": {
   "display_name": "Python 3",
   "language": "python",
   "name": "python3"
  },
  "language_info": {
   "codemirror_mode": {
    "name": "ipython",
    "version": 3
   },
   "file_extension": ".py",
   "mimetype": "text/x-python",
   "name": "python",
   "nbconvert_exporter": "python",
   "pygments_lexer": "ipython3",
   "version": "3.10.12"
  }
 },
 "nbformat": 4,
 "nbformat_minor": 2
}
