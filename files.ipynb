{
 "cells": [
  {
   "cell_type": "code",
   "execution_count": null,
   "metadata": {},
   "outputs": [],
   "source": [
    "from pathlib import Path\n",
    "import os\n",
    "Path('spam', 'bacon', 'eggs')\n",
    "current_directory = os.getcwd()\n",
    "print(\"Current Directory:\", current_directory)"
   ]
  },
  {
   "cell_type": "code",
   "execution_count": null,
   "metadata": {},
   "outputs": [],
   "source": [
    "from pathlib import Path\n",
    "myFiles = ['accounts.txt', 'details.csv', 'invite.docx']\n",
    "for filename in myFiles:\n",
    "        print(Path(r'/home/mounika/', filename))"
   ]
  },
  {
   "cell_type": "code",
   "execution_count": null,
   "metadata": {},
   "outputs": [],
   "source": [
    "from pathlib import Path\n",
    "# Path('spam')/'bacon'/'eggs'\n",
    "# Path('spam')/Path('bacon/eggs')\n",
    "Path('spam')/Path()\n"
   ]
  },
  {
   "cell_type": "code",
   "execution_count": null,
   "metadata": {},
   "outputs": [],
   "source": [
    "homeFolder = r'/home/mounika/LearnPython'\n",
    "subFolder = 'spam'\n",
    "# homeFolder + '//' + subFolder\n",
    "new = '//'.join([homeFolder,subFolder])\n",
    "print(new)\n"
   ]
  },
  {
   "cell_type": "code",
   "execution_count": null,
   "metadata": {},
   "outputs": [],
   "source": [
    "homeFolder = Path('C:/Users/Al')\n",
    "subFolder = Path('spam')\n",
    "homeFolder/subFolder\n",
    "str(homeFolder / subFolder)"
   ]
  },
  {
   "cell_type": "code",
   "execution_count": null,
   "metadata": {},
   "outputs": [],
   "source": [
    "from pathlib import Path\n",
    "Path('spam' )/ 'bacon' / 'eggs'"
   ]
  },
  {
   "cell_type": "code",
   "execution_count": null,
   "metadata": {},
   "outputs": [],
   "source": [
    "from pathlib import Path\n",
    "import os\n",
    "# os.getcwd()\n",
    "# Path.cwd()\n",
    "os.chdir('/home/mounika/')\n",
    "# os.chdir('C:/ThisFolderDoesNotExist')\n",
    "Path.cwd()\n"
   ]
  },
  {
   "cell_type": "code",
   "execution_count": null,
   "metadata": {},
   "outputs": [],
   "source": [
    "from pathlib import Path\n",
    "import os\n",
    "Path.home().is_absolute()\n",
    "# os.getcwd()\n",
    "Path('spam/bacon/eggs').is_absolute()"
   ]
  },
  {
   "cell_type": "code",
   "execution_count": null,
   "metadata": {},
   "outputs": [],
   "source": [
    "Path('my/relative/path')\n",
    "Path.cwd()/Path('my/relative/path')"
   ]
  },
  {
   "cell_type": "code",
   "execution_count": null,
   "metadata": {},
   "outputs": [],
   "source": [
    "import os\n",
    "os.makedirs('/home/mounika/new/practise')"
   ]
  },
  {
   "cell_type": "code",
   "execution_count": null,
   "metadata": {},
   "outputs": [],
   "source": [
    "Path.cwd() / Path('my/relative/path')"
   ]
  },
  {
   "cell_type": "code",
   "execution_count": null,
   "metadata": {},
   "outputs": [],
   "source": [
    "Path.home() / Path('my/relative/path')"
   ]
  },
  {
   "cell_type": "code",
   "execution_count": null,
   "metadata": {},
   "outputs": [],
   "source": [
    "import os\n",
    "os.path.abspath('./example.py')\n",
    "os.path.isabs('.')\n",
    "os.path.isabs(os.path.abspath('.'))"
   ]
  },
  {
   "cell_type": "code",
   "execution_count": null,
   "metadata": {},
   "outputs": [],
   "source": [
    "from pathlib import Path\n",
    "# Path.cwd()\n",
    "import os\n",
    "new = os.getcwd()\n",
    "print(new)\n",
    "# Path.cwd().parents[0\n",
    "                #    ]"
   ]
  },
  {
   "cell_type": "code",
   "execution_count": null,
   "metadata": {},
   "outputs": [],
   "source": [
    "print(\"hell\\tworld\")\n",
    "print(\"blackslash: \\\\\")"
   ]
  },
  {
   "cell_type": "code",
   "execution_count": null,
   "metadata": {},
   "outputs": [],
   "source": [
    "from pathlib import Path\n",
    "home = Path('/home/mounika')\n",
    "sub = Path('LearnPython')\n",
    "str(home/sub)"
   ]
  },
  {
   "cell_type": "code",
   "execution_count": null,
   "metadata": {},
   "outputs": [],
   "source": [
    "from pathlib import Path\n",
    "import os\n",
    "Path.cwd()\n",
    "os.chdir('/home/mounika/')\n",
    "Path.cwd()"
   ]
  },
  {
   "cell_type": "code",
   "execution_count": null,
   "metadata": {},
   "outputs": [],
   "source": [
    "import os\n",
    "try:\n",
    "    os.mkdir(\"LearnPython\")\n",
    "    print(\"created\")\n",
    "except FileExistsError:\n",
    "    print(\"already exists\")"
   ]
  },
  {
   "cell_type": "code",
   "execution_count": null,
   "metadata": {},
   "outputs": [],
   "source": [
    "import os\n",
    "os.makedirs(\"LearnPython/new_directory\")\n",
    "print(\"created new under parent directory\")"
   ]
  },
  {
   "cell_type": "code",
   "execution_count": null,
   "metadata": {},
   "outputs": [],
   "source": [
    "from pathlib import Path\n",
    "p=Path('/home/mounika/LearnPython/files.ipynb')\n",
    "print(p.anchor)\n",
    "print(p.name)\n",
    "print(p.suffix)\n",
    "print(p.parent)\n",
    "print(p.stem)\n",
    "print(p.drive)"
   ]
  },
  {
   "cell_type": "code",
   "execution_count": null,
   "metadata": {},
   "outputs": [],
   "source": [
    "from pathlib import Path\n",
    "import os\n",
    "calci_file = '/home/mounika/LearnPython/files.ipynb'\n",
    "os.path.basename(calci_file)\n",
    "os.path.dirname(calci_file)\n",
    "os.path.split(calci_file)"
   ]
  },
  {
   "cell_type": "code",
   "execution_count": null,
   "metadata": {},
   "outputs": [],
   "source": [
    "calci_file = '/home/mounika/LearnPython/files.ipynb'\n",
    "calci_file.split(os.sep)"
   ]
  },
  {
   "cell_type": "code",
   "execution_count": null,
   "metadata": {},
   "outputs": [],
   "source": [
    "import os\n",
    "os.path.getsize('/home/mounika/LearnPython/files.ipynb')\n",
    "os.listdir('/home/mounika/LearnPython')\n"
   ]
  },
  {
   "cell_type": "code",
   "execution_count": null,
   "metadata": {},
   "outputs": [],
   "source": [
    "totalSize = 0\n",
    "for filename in os.listdir('/home/mounika/LearnPython'):\n",
    "    totalSize = totalSize + os.path.getsize(os.path.join('/home/mounika/LearnPython', filename))\n",
    "print(totalSize)"
   ]
  },
  {
   "cell_type": "code",
   "execution_count": null,
   "metadata": {},
   "outputs": [],
   "source": [
    "import glob\n",
    "all = glob.glob('*ipynb')\n",
    "print(all)\n",
    "ipynb_files =glob.glob('/home/mounika/LearnPython/*.ipynb')\n",
    "print(ipynb_files)\n",
    "all_files = glob.glob('/home/mounika/LearnPython/**/*', recursive=True)\n",
    "print(all_files)"
   ]
  },
  {
   "cell_type": "code",
   "execution_count": null,
   "metadata": {},
   "outputs": [],
   "source": [
    "from pathlib import Path\n",
    "\n",
    "path = Path('/home/mounika/LearnPython')\n",
    "path.exists()\n",
    "path.is_file()\n",
    "path.is_dir()\n"
   ]
  },
  {
   "cell_type": "code",
   "execution_count": null,
   "metadata": {},
   "outputs": [],
   "source": [
    "from pathlib import Path\n",
    "path = Path(\"sample_test.txt\")\n",
    "path.write_text(\"Hello_mounika\")\n"
   ]
  },
  {
   "cell_type": "code",
   "execution_count": null,
   "metadata": {},
   "outputs": [],
   "source": [
    "file = open(\"/mnt/c/Users/VasanthaMounika(Anna/OneDrive - OneWorkplace/Desktop/sample_test.txt\",'r')\n",
    "content=file.read()\n",
    "print(content)\n",
    "file.close()"
   ]
  },
  {
   "cell_type": "code",
   "execution_count": null,
   "metadata": {},
   "outputs": [],
   "source": [
    "file = open(\"/mnt/c/Users/VasanthaMounika(Anna/OneDrive - OneWorkplace/Desktop/sample_test.txt\",'w')\n",
    "content = file.write(\"How is your training going on...\")\n",
    "file.close()\n"
   ]
  },
  {
   "cell_type": "code",
   "execution_count": null,
   "metadata": {},
   "outputs": [],
   "source": [
    "file = open(\"/mnt/c/Users/VasanthaMounika(Anna/OneDrive - OneWorkplace/Desktop/sample_test.txt\",'a')\n",
    "file.write('\\nAppend text')\n",
    "file.close()"
   ]
  },
  {
   "cell_type": "code",
   "execution_count": null,
   "metadata": {},
   "outputs": [],
   "source": [
    "file = open(\"/mnt/c/Users/VasanthaMounika(Anna/OneDrive - OneWorkplace/Desktop/sample_test.txt\",'r')\n",
    "file.read()\n",
    "# file.close()"
   ]
  },
  {
   "cell_type": "code",
   "execution_count": null,
   "metadata": {},
   "outputs": [],
   "source": [
    "file = open('new_file.txt', 'x')\n",
    "file.write('This is a new file')\n",
    "file.close()\n"
   ]
  },
  {
   "cell_type": "code",
   "execution_count": null,
   "metadata": {},
   "outputs": [],
   "source": [
    "with open('new_file.txt','w') as file:\n",
    "    file.write(\"Hello world!\")"
   ]
  },
  {
   "cell_type": "code",
   "execution_count": null,
   "metadata": {},
   "outputs": [],
   "source": [
    "with open('new_file.txt','r') as file:\n",
    "    file.read()"
   ]
  },
  {
   "cell_type": "code",
   "execution_count": null,
   "metadata": {},
   "outputs": [],
   "source": []
  }
 ],
 "metadata": {
  "kernelspec": {
   "display_name": "Python 3",
   "language": "python",
   "name": "python3"
  },
  "language_info": {
   "codemirror_mode": {
    "name": "ipython",
    "version": 3
   },
   "file_extension": ".py",
   "mimetype": "text/x-python",
   "name": "python",
   "nbconvert_exporter": "python",
   "pygments_lexer": "ipython3",
   "version": "3.10.12"
  }
 },
 "nbformat": 4,
 "nbformat_minor": 2
}
