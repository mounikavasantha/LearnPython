{
 "cells": [
  {
   "cell_type": "code",
   "execution_count": null,
   "metadata": {},
   "outputs": [],
   "source": [
    "from pathlib import Path\n",
    "import os\n",
    "Path('spam', 'bacon', 'eggs')\n",
    "current_directory = os.getcwd()\n",
    "print(\"Current Directory:\", current_directory)"
   ]
  },
  {
   "cell_type": "code",
   "execution_count": null,
   "metadata": {},
   "outputs": [],
   "source": [
    "from pathlib import Path\n",
    "myFiles = ['accounts.txt', 'details.csv', 'invite.docx']\n",
    "for filename in myFiles:\n",
    "        print(Path(r'/home/mounika/', filename))"
   ]
  },
  {
   "cell_type": "code",
   "execution_count": null,
   "metadata": {},
   "outputs": [],
   "source": [
    "from pathlib import Path\n",
    "# Path('spam')/'bacon'/'eggs'\n",
    "# Path('spam')/Path('bacon/eggs')\n",
    "Path('spam')/Path()\n"
   ]
  },
  {
   "cell_type": "code",
   "execution_count": null,
   "metadata": {},
   "outputs": [],
   "source": [
    "homeFolder = r'/home/mounika/LearnPython'\n",
    "subFolder = 'spam'\n",
    "# homeFolder + '//' + subFolder\n",
    "new = '/'.join([homeFolder,subFolder])\n",
    "print((new))\n"
   ]
  },
  {
   "cell_type": "code",
   "execution_count": null,
   "metadata": {},
   "outputs": [],
   "source": [
    "from pathlib import Path\n",
    "homeFolder = Path('C:/Users/Al')\n",
    "subFolder = Path('spam')\n",
    "homeFolder/subFolder\n",
    "str(homeFolder / subFolder)"
   ]
  },
  {
   "cell_type": "code",
   "execution_count": null,
   "metadata": {},
   "outputs": [],
   "source": [
    "from pathlib import Path\n",
    "Path('spam' )/ 'bacon' / 'eggs'"
   ]
  },
  {
   "cell_type": "code",
   "execution_count": null,
   "metadata": {},
   "outputs": [],
   "source": [
    "from pathlib import Path\n",
    "import os\n",
    "# os.getcwd()\n",
    "# Path.cwd()\n",
    "os.chdir('/home/mounika/')\n",
    "# os.chdir('C:/ThisFolderDoesNotExist')\n",
    "Path.cwd()\n"
   ]
  },
  {
   "cell_type": "code",
   "execution_count": null,
   "metadata": {},
   "outputs": [],
   "source": [
    "from pathlib import Path\n",
    "import os\n",
    "Path.home().is_absolute()\n",
    "# os.getcwd().is_absolute()\n",
    "# Path('spam/bacon/eggs').is_absolute()"
   ]
  },
  {
   "cell_type": "code",
   "execution_count": null,
   "metadata": {},
   "outputs": [],
   "source": [
    "Path('my/relative/path')\n",
    "Path.cwd()/Path('my/relative/path')"
   ]
  },
  {
   "cell_type": "code",
   "execution_count": null,
   "metadata": {},
   "outputs": [],
   "source": [
    "import os\n",
    "os.makedirs('/home/mounika/new/practise')"
   ]
  },
  {
   "cell_type": "code",
   "execution_count": null,
   "metadata": {},
   "outputs": [],
   "source": [
    "Path.cwd() / Path('my/relative/path')"
   ]
  },
  {
   "cell_type": "code",
   "execution_count": null,
   "metadata": {},
   "outputs": [],
   "source": [
    "Path.home() / Path('my/relative/path')"
   ]
  },
  {
   "cell_type": "code",
   "execution_count": null,
   "metadata": {},
   "outputs": [],
   "source": [
    "import os\n",
    "os.path.abspath('./example.py')\n",
    "os.path.isabs('.')\n",
    "os.path.isabs(os.path.abspath('.'))"
   ]
  },
  {
   "cell_type": "code",
   "execution_count": null,
   "metadata": {},
   "outputs": [],
   "source": [
    "from pathlib import Path\n",
    "# Path.cwd()\n",
    "import os\n",
    "new = os.getcwd()\n",
    "print(new)\n",
    "# Path.cwd().parents[0\n",
    "                #    ]"
   ]
  },
  {
   "cell_type": "code",
   "execution_count": null,
   "metadata": {},
   "outputs": [],
   "source": [
    "print(\"hell\\tworld\")\n",
    "print(\"blackslash: \\\\\")"
   ]
  },
  {
   "cell_type": "code",
   "execution_count": null,
   "metadata": {},
   "outputs": [],
   "source": [
    "from pathlib import Path\n",
    "home = Path('/home/mounika')\n",
    "sub = Path('LearnPython')\n",
    "str(home/sub)"
   ]
  },
  {
   "cell_type": "code",
   "execution_count": null,
   "metadata": {},
   "outputs": [],
   "source": [
    "from pathlib import Path\n",
    "import os\n",
    "Path.cwd()\n",
    "os.chdir('/home/mounika/')\n",
    "Path.cwd()"
   ]
  },
  {
   "cell_type": "code",
   "execution_count": null,
   "metadata": {},
   "outputs": [],
   "source": [
    "import os\n",
    "try:\n",
    "    os.mkdir(\"LearnPython\")\n",
    "    print(\"created\")\n",
    "except FileExistsError:\n",
    "    print(\"already exists\")"
   ]
  },
  {
   "cell_type": "code",
   "execution_count": null,
   "metadata": {},
   "outputs": [],
   "source": [
    "import os\n",
    "os.makedirs(\"LearnPython/new_directory\")\n",
    "print(\"created new under parent directory\")"
   ]
  },
  {
   "cell_type": "code",
   "execution_count": null,
   "metadata": {},
   "outputs": [],
   "source": [
    "from pathlib import Path\n",
    "p=Path('/home/mounika/LearnPython/files.ipynb')\n",
    "print(p.anchor)\n",
    "print(p.name)\n",
    "print(p.suffix)\n",
    "print(p.parent)\n",
    "print(p.stem)\n",
    "print(p.drive)"
   ]
  },
  {
   "cell_type": "code",
   "execution_count": null,
   "metadata": {},
   "outputs": [],
   "source": [
    "from pathlib import Path\n",
    "import os\n",
    "calci_file = '/home/mounika/LearnPython/files.ipynb'\n",
    "os.path.basename(calci_file)\n",
    "os.path.dirname(calci_file)\n",
    "os.path.split(calci_file)"
   ]
  },
  {
   "cell_type": "code",
   "execution_count": null,
   "metadata": {},
   "outputs": [],
   "source": [
    "calci_file = '/home/mounika/LearnPython/files.ipynb'\n",
    "calci_file.split(os.sep)"
   ]
  },
  {
   "cell_type": "code",
   "execution_count": null,
   "metadata": {},
   "outputs": [],
   "source": [
    "import os\n",
    "os.path.getsize('/home/mounika/LearnPython/files.ipynb')\n",
    "os.listdir('/home/mounika/LearnPython')\n"
   ]
  },
  {
   "cell_type": "code",
   "execution_count": null,
   "metadata": {},
   "outputs": [],
   "source": [
    "totalSize = 0\n",
    "for filename in os.listdir('/home/mounika/LearnPython'):\n",
    "    totalSize = totalSize + os.path.getsize(os.path.join('/home/mounika/LearnPython', filename))\n",
    "print(totalSize)"
   ]
  },
  {
   "cell_type": "code",
   "execution_count": null,
   "metadata": {},
   "outputs": [],
   "source": [
    "import glob\n",
    "import os\n",
    "from pathlib import Path\n",
    "dir = Path.home()/Path('LearnPython')\n",
    "os.chdir(dir)\n",
    "new_dir = os.getcwd()\n",
    "all = glob.glob('*.ipynb')\n",
    "print(all)\n",
    "org = '/'.join([new_dir,'/**/*'])\n",
    "# ipynb_files =glob.glob('/home/mounika/LearnPython/*.ipynb')\n",
    "# print(ipynb_files)\n",
    "all_files = glob.glob(org, recursive=True)\n",
    "print(all_files)"
   ]
  },
  {
   "cell_type": "code",
   "execution_count": null,
   "metadata": {},
   "outputs": [],
   "source": [
    "from pathlib import Path\n",
    "\n",
    "path = Path('/home/mounika/LearnPython')\n",
    "path.exists()\n",
    "path.is_file()\n",
    "path.is_dir()\n"
   ]
  },
  {
   "cell_type": "code",
   "execution_count": null,
   "metadata": {},
   "outputs": [],
   "source": [
    "from pathlib import Path\n",
    "path = Path(\"sample_test.txt\")\n",
    "path.write_text(\"Hello_mounika\")\n"
   ]
  },
  {
   "cell_type": "code",
   "execution_count": null,
   "metadata": {},
   "outputs": [],
   "source": [
    "file = open(\"/mnt/c/Users/VasanthaMounika(Anna/OneDrive - OneWorkplace/Desktop/sample_test.txt\",'r')\n",
    "content=file.read()\n",
    "print(content)\n",
    "file.close()"
   ]
  },
  {
   "cell_type": "code",
   "execution_count": null,
   "metadata": {},
   "outputs": [],
   "source": [
    "file = open(\"/mnt/c/Users/VasanthaMounika(Anna/OneDrive - OneWorkplace/Desktop/sample_test.txt\",'w')\n",
    "content = file.write(\"How is your training going on...\")\n",
    "file.close()\n"
   ]
  },
  {
   "cell_type": "code",
   "execution_count": null,
   "metadata": {},
   "outputs": [],
   "source": [
    "file = open(\"/mnt/c/Users/VasanthaMounika(Anna/OneDrive - OneWorkplace/Desktop/sample_test.txt\",'a')\n",
    "file.write('\\nAppend text')\n",
    "file.close()"
   ]
  },
  {
   "cell_type": "code",
   "execution_count": null,
   "metadata": {},
   "outputs": [],
   "source": [
    "file = open(\"/mnt/c/Users/VasanthaMounika(Anna/OneDrive - OneWorkplace/Desktop/sample_test.txt\",'r')\n",
    "file.read()\n",
    "# file.close()"
   ]
  },
  {
   "cell_type": "code",
   "execution_count": null,
   "metadata": {},
   "outputs": [],
   "source": [
    "file = open('new_file.txt', 'x')\n",
    "file.write('This is a new file')\n",
    "file.close()\n"
   ]
  },
  {
   "cell_type": "code",
   "execution_count": null,
   "metadata": {},
   "outputs": [],
   "source": [
    "with open('new_file.txt','w') as file:\n",
    "    file.write(\"Hello world!\")"
   ]
  },
  {
   "cell_type": "code",
   "execution_count": null,
   "metadata": {},
   "outputs": [],
   "source": [
    "with open('new_file.txt','r') as file:\n",
    "    file.read()"
   ]
  },
  {
   "cell_type": "code",
   "execution_count": null,
   "metadata": {},
   "outputs": [],
   "source": [
    "import pathlib\n",
    "p=pathlib.Path.home()\n",
    "print(p)\n",
    "n=Path(\"LearnPython\")\n",
    "new = p/n\n",
    "print(new)"
   ]
  },
  {
   "cell_type": "code",
   "execution_count": null,
   "metadata": {},
   "outputs": [],
   "source": [
    "with open('sapmle.txt','x') as f:\n",
    "    f.write(\"new\")"
   ]
  },
  {
   "cell_type": "code",
   "execution_count": null,
   "metadata": {},
   "outputs": [],
   "source": [
    "import os\n",
    "print(\"current directory:\", os.getcwd())\n",
    "with open('sapmle.txt','r') as f:\n",
    "    content = f.read()\n",
    "    print(content)"
   ]
  },
  {
   "cell_type": "code",
   "execution_count": null,
   "metadata": {},
   "outputs": [],
   "source": [
    "with open('new.csv','x') as f:\n",
    "    f.write(\"new\")"
   ]
  },
  {
   "cell_type": "code",
   "execution_count": null,
   "metadata": {},
   "outputs": [],
   "source": [
    "import glob\n",
    "a = glob.glob('*.csv')\n",
    "print(a)"
   ]
  },
  {
   "cell_type": "code",
   "execution_count": null,
   "metadata": {},
   "outputs": [],
   "source": [
    "import os\n",
    "os.remove('sapmle.csv')"
   ]
  },
  {
   "cell_type": "code",
   "execution_count": null,
   "metadata": {},
   "outputs": [],
   "source": [
    "import os\n",
    "from pathlib import Path\n",
    "import glob\n",
    "p = glob.glob('*.csv')\n",
    "for filename in p:\n",
    "    print(filename)\n",
    "    os.unlink(filename)"
   ]
  },
  {
   "cell_type": "code",
   "execution_count": null,
   "metadata": {},
   "outputs": [],
   "source": [
    "import send2trash\n",
    "bacon_file = open(\"bacon.txt\",\"a\")\n",
    "bacon_file.write(\"bacon is not vegetable\")\n",
    "\n",
    "bacon_file.close()\n",
    "send2trash.send2trash('bacon.txt')\n"
   ]
  },
  {
   "cell_type": "code",
   "execution_count": null,
   "metadata": {},
   "outputs": [],
   "source": [
    "import os\n",
    "directory = '/home/mounika/'\n",
    "for dirpath,dirnames,dirfiles in os.walk(directory):\n",
    "    print(f\"found directory:{dirpath}\")\n",
    "    for dirname in dirnames:\n",
    "        print(f\"found dirnames:{dirnames}\")\n",
    "    for dirfile in dirfiles:\n",
    "        print(f\"found files:{dirfile}\")"
   ]
  },
  {
   "cell_type": "code",
   "execution_count": null,
   "metadata": {},
   "outputs": [],
   "source": [
    "import zipfile\n",
    "with open('text1.txt','w') as f:\n",
    "          f.write(\"hello\")\n",
    "with open('text2.txt','w') as f:\n",
    "          f.write(\"hello\")\n",
    "with zipfile.ZipFile('example.zip','w')as zipf:\n",
    "    zipf.write('text1.txt')\n",
    "    zipf.write('text2.txt')\n",
    "file_to_compress = \"text1.txt\"\n",
    "with zipfile.ZipFile('example.zip', 'w') as zipf:\n",
    "    zipf.write(file_to_compress)\n",
    "\n",
    "# Get the size of the compressed file\n",
    "compressed_size = os.path.getsize('example.zip')\n",
    "print(f\"Compressed size of example.zip: {compressed_size} bytes\")"
   ]
  },
  {
   "cell_type": "code",
   "execution_count": null,
   "metadata": {},
   "outputs": [],
   "source": [
    "import zipfile\n",
    "import os\n",
    "# File to be compressed\n",
    "file_to_compress = 'text1.txt'\n",
    "\n",
    "# Get the size of the file before compression\n",
    "original_size = os.path.getsize(file_to_compress)\n",
    "print(f\"Original size of {file_to_compress}: {original_size} bytes\")\n",
    "\n",
    "with zipfile.ZipFile(\"example.zip\",'r') as f:\n",
    "    print(f.namelist())\n",
    "    compressed_size = os.path.getsize('example.zip')\n",
    "    print(f\"Compressed size of example.zip: {compressed_size} bytes\")\n",
    "\n",
    "\n",
    "    with open(\"text1.txt\",'r') as file:\n",
    "        content = file.read()\n",
    "        # content.file_size\n",
    "        # print(os.path.getsize(content))\n",
    "        print(content)\n"
   ]
  },
  {
   "cell_type": "code",
   "execution_count": null,
   "metadata": {},
   "outputs": [],
   "source": [
    "import zipfile\n",
    "\n",
    "with zipfile.ZipFile(\"example.zip\",'r') as f:\n",
    "    f.extractall()\n",
    "    f.extract('text1.txt','extracted_files')"
   ]
  },
  {
   "cell_type": "code",
   "execution_count": null,
   "metadata": {},
   "outputs": [],
   "source": [
    "import os\n",
    "\n",
    "# Current file name\n",
    "current_file_name = 'sample.txt'\n",
    "\n",
    "# New file name\n",
    "new_file_name = 'sample_1.txt'\n",
    "\n",
    "# Rename the file\n",
    "os.rename(current_file_name, new_file_name)\n",
    "\n",
    "# Confirm the file has been renamed\n",
    "if os.path.exists(new_file_name):\n",
    "    print(f'File renamed to {new_file_name}')\n",
    "else:\n",
    "    print('File renaming failed')"
   ]
  },
  {
   "cell_type": "code",
   "execution_count": null,
   "metadata": {},
   "outputs": [],
   "source": [
    "try:\n",
    "    with open(\"dummy.txt\",\"r\") as f:\n",
    "        f.read()\n",
    "except FileNotFoundError:\n",
    "    print(\"file does not exist\")"
   ]
  },
  {
   "cell_type": "code",
   "execution_count": null,
   "metadata": {},
   "outputs": [],
   "source": [
    "m=2\n",
    "n=0\n",
    "def div(m,n):\n",
    "    try:\n",
    "        div = m/n\n",
    "        print(\"division\")\n",
    "    except ZeroDivisionError:\n",
    "        print(\"cannot divide by zero\")\n",
    "\n",
    "div(m,n)"
   ]
  },
  {
   "cell_type": "code",
   "execution_count": null,
   "metadata": {},
   "outputs": [],
   "source": [
    "try:\n",
    "    num=int(input())\n",
    "    print(\"integer\")\n",
    "except ValueError:\n",
    "    print(\"type err\")\n"
   ]
  },
  {
   "cell_type": "code",
   "execution_count": null,
   "metadata": {},
   "outputs": [],
   "source": [
    "import requests\n",
    "try:\n",
    "    res=requests.get(\"https://non_existing_url.com\")\n",
    "    res.raise_for_status()\n",
    "except requests.exceptions.RequestException as e:\n",
    "    print(f\"Request failed: {e}\")\n"
   ]
  },
  {
   "cell_type": "code",
   "execution_count": null,
   "metadata": {},
   "outputs": [],
   "source": [
    "dict = {\"name\":\"Mounika\", \"technology\":\"Python\"}\n",
    "try:\n",
    "    dict[\"name\"]=\"Monika\"\n",
    "    value=dict[\"class\"]\n",
    "except KeyError:\n",
    "    print(\"entered wrong key\")"
   ]
  },
  {
   "cell_type": "code",
   "execution_count": null,
   "metadata": {},
   "outputs": [],
   "source": [
    "try:\n",
    "    with open('example.txt','r') as f:\n",
    "        f.read()\n",
    "except FileNotFoundError:\n",
    "    print(\"file does not exists\")"
   ]
  },
  {
   "cell_type": "code",
   "execution_count": null,
   "metadata": {},
   "outputs": [],
   "source": [
    "try:\n",
    "    with open('example.txt','w') as f:\n",
    "        f.write(\"Hello world!\")\n",
    "        print(\"write operation is successfull\")\n",
    "except IOError:\n",
    "    print(\"An error occured\")"
   ]
  },
  {
   "cell_type": "code",
   "execution_count": null,
   "metadata": {},
   "outputs": [],
   "source": [
    "try:\n",
    "    with open('example.txt',\"a\") as f:\n",
    "        f.write(\"/nAppending thie line\")\n",
    "        print(\"Added new line\")\n",
    "except IOError:\n",
    "    print(\"error occured\")"
   ]
  },
  {
   "cell_type": "code",
   "execution_count": null,
   "metadata": {},
   "outputs": [],
   "source": [
    "try:\n",
    "    with open('example.txt',\"r\") as file:\n",
    "        for f in file:\n",
    "            print(f.strip())\n",
    "except FileNotFoundError:\n",
    "    print(\"file doesnt exists\")"
   ]
  },
  {
   "cell_type": "code",
   "execution_count": null,
   "metadata": {},
   "outputs": [],
   "source": [
    "import os\n",
    "dir = os.getcwd()\n",
    "print(dir)\n",
    "list1 = os.listdir(dir)\n",
    "# print(list1)\n",
    "# [x for x in list1]\n",
    "# print(new_cop)\n",
    "for x in list1:\n",
    "    print(x)"
   ]
  },
  {
   "cell_type": "code",
   "execution_count": null,
   "metadata": {},
   "outputs": [],
   "source": [
    "import os\n",
    "os.makedirs(\"bacon/eggs/new\")\n"
   ]
  },
  {
   "cell_type": "code",
   "execution_count": null,
   "metadata": {},
   "outputs": [],
   "source": [
    "import os\n",
    "os.rmdir(\"bacon/\")\n",
    "print(\"removed\")\n"
   ]
  },
  {
   "cell_type": "code",
   "execution_count": null,
   "metadata": {},
   "outputs": [],
   "source": [
    "import os\n",
    "if os.path.exists(\"sample_2.txt\"):\n",
    "    print(\"exists\")\n",
    "else:\n",
    "    print(\"doesn't exists\")"
   ]
  },
  {
   "cell_type": "code",
   "execution_count": null,
   "metadata": {},
   "outputs": [],
   "source": [
    "import os\n",
    "from pathlib import Path\n",
    "path = \"sample_1.txt\"\n",
    "if path:\n",
    "    print(\"exists\")\n",
    "    print(os.path.getsize(path))\n",
    "else:\n",
    "    print(\"not exists\")"
   ]
  },
  {
   "cell_type": "code",
   "execution_count": null,
   "metadata": {},
   "outputs": [],
   "source": [
    "import os\n",
    "old = \"sample_2.txt\"\n",
    "new = \"sample_1.txt\"\n",
    "os.rename(old,new)\n",
    "print(\"renamed\")"
   ]
  },
  {
   "cell_type": "code",
   "execution_count": null,
   "metadata": {},
   "outputs": [],
   "source": [
    "ages = [26, 57, 92, 54, 22, 15, 17, 80, 47, 73]\n",
    "ages.sort()\n",
    "print(ages)\n",
    "assert ages[0]<=ages[1]\n"
   ]
  },
  {
   "cell_type": "code",
   "execution_count": null,
   "metadata": {},
   "outputs": [],
   "source": [
    "ages = [26, 57, 92, 54, 22, 15, 17, 80, 47, 73]\n",
    "ages.reverse()\n",
    "print(ages)\n",
    "assert ages[0]<=ages[1]"
   ]
  },
  {
   "cell_type": "code",
   "execution_count": null,
   "metadata": {},
   "outputs": [],
   "source": [
    "import logging\n",
    "\n",
    "logging.basicConfig(level=logging.DEBUG, format='%(asctime)s - %(levelname)s - %(message)s')\n",
    "\n",
    "logging.debug(\"Addition of 2 numbers\")\n",
    "def sum(a,b):\n",
    "    try:\n",
    "        logging.info(f\"Addition of 2 numbers {a},{b}\")\n",
    "        sum = a+b\n",
    "\n",
    "        return sum\n",
    "    except TypeError:\n",
    "        logging.error(\"please check the input you entered\")\n",
    "try:\n",
    "\n",
    "\n",
    "    sum(2,6,2)\n",
    "except TypeError as e :\n",
    "    logging.error(f\"error :{e}\")\n",
    "\n",
    "\n"
   ]
  },
  {
   "cell_type": "code",
   "execution_count": null,
   "metadata": {},
   "outputs": [],
   "source": [
    "a = \"this is a string\"\n",
    "words = a.split(\" \")\n",
    "new = \"-\".join(words)\n",
    "print(new)\n",
    "\n"
   ]
  },
  {
   "cell_type": "code",
   "execution_count": null,
   "metadata": {},
   "outputs": [],
   "source": [
    "import os\n",
    "a = os.path.getsize('files.ipynb')\n",
    "print(a)"
   ]
  },
  {
   "cell_type": "code",
   "execution_count": null,
   "metadata": {},
   "outputs": [],
   "source": []
  }
 ],
 "metadata": {
  "kernelspec": {
   "display_name": "Python 3",
   "language": "python",
   "name": "python3"
  },
  "language_info": {
   "codemirror_mode": {
    "name": "ipython",
    "version": 3
   },
   "file_extension": ".py",
   "mimetype": "text/x-python",
   "name": "python",
   "nbconvert_exporter": "python",
   "pygments_lexer": "ipython3",
   "version": "3.undefined.undefined"
  }
 },
 "nbformat": 4,
 "nbformat_minor": 2
}
